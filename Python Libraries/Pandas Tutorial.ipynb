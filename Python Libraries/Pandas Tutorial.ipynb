{
 "cells": [
  {
   "cell_type": "code",
   "execution_count": 1,
   "id": "3317c457",
   "metadata": {},
   "outputs": [],
   "source": [
    "import pandas as pd\n",
    "import numpy as np"
   ]
  },
  {
   "cell_type": "code",
   "execution_count": 2,
   "id": "45d28ed2",
   "metadata": {},
   "outputs": [],
   "source": [
    "s=pd.Series([1,2,3,4,5,6,np.nan,8,9,10])"
   ]
  },
  {
   "cell_type": "code",
   "execution_count": 3,
   "id": "41dbc25d",
   "metadata": {},
   "outputs": [
    {
     "data": {
      "text/plain": [
       "0     1.0\n",
       "1     2.0\n",
       "2     3.0\n",
       "3     4.0\n",
       "4     5.0\n",
       "5     6.0\n",
       "6     NaN\n",
       "7     8.0\n",
       "8     9.0\n",
       "9    10.0\n",
       "dtype: float64"
      ]
     },
     "execution_count": 3,
     "metadata": {},
     "output_type": "execute_result"
    }
   ],
   "source": [
    "s\n"
   ]
  },
  {
   "cell_type": "code",
   "execution_count": 5,
   "id": "dabc9b75",
   "metadata": {},
   "outputs": [],
   "source": [
    "d=pd.date_range('20200301',periods=10)"
   ]
  },
  {
   "cell_type": "code",
   "execution_count": 6,
   "id": "43158407",
   "metadata": {},
   "outputs": [
    {
     "data": {
      "text/plain": [
       "DatetimeIndex(['2020-03-01', '2020-03-02', '2020-03-03', '2020-03-04',\n",
       "               '2020-03-05', '2020-03-06', '2020-03-07', '2020-03-08',\n",
       "               '2020-03-09', '2020-03-10'],\n",
       "              dtype='datetime64[ns]', freq='D')"
      ]
     },
     "execution_count": 6,
     "metadata": {},
     "output_type": "execute_result"
    }
   ],
   "source": [
    "d"
   ]
  },
  {
   "cell_type": "code",
   "execution_count": 8,
   "id": "5cff1108",
   "metadata": {},
   "outputs": [],
   "source": [
    "df=pd.DataFrame(np.random.randn(10,4),index=d,columns=['A','B','C','D'])"
   ]
  },
  {
   "cell_type": "code",
   "execution_count": 9,
   "id": "bb48db70",
   "metadata": {},
   "outputs": [
    {
     "data": {
      "text/html": [
       "<div>\n",
       "<style scoped>\n",
       "    .dataframe tbody tr th:only-of-type {\n",
       "        vertical-align: middle;\n",
       "    }\n",
       "\n",
       "    .dataframe tbody tr th {\n",
       "        vertical-align: top;\n",
       "    }\n",
       "\n",
       "    .dataframe thead th {\n",
       "        text-align: right;\n",
       "    }\n",
       "</style>\n",
       "<table border=\"1\" class=\"dataframe\">\n",
       "  <thead>\n",
       "    <tr style=\"text-align: right;\">\n",
       "      <th></th>\n",
       "      <th>A</th>\n",
       "      <th>B</th>\n",
       "      <th>C</th>\n",
       "      <th>D</th>\n",
       "    </tr>\n",
       "  </thead>\n",
       "  <tbody>\n",
       "    <tr>\n",
       "      <th>2020-03-01</th>\n",
       "      <td>-0.435913</td>\n",
       "      <td>-0.922196</td>\n",
       "      <td>0.336476</td>\n",
       "      <td>-0.529754</td>\n",
       "    </tr>\n",
       "    <tr>\n",
       "      <th>2020-03-02</th>\n",
       "      <td>0.361777</td>\n",
       "      <td>0.219574</td>\n",
       "      <td>1.815068</td>\n",
       "      <td>-0.621757</td>\n",
       "    </tr>\n",
       "    <tr>\n",
       "      <th>2020-03-03</th>\n",
       "      <td>-0.131161</td>\n",
       "      <td>-0.041310</td>\n",
       "      <td>-1.502897</td>\n",
       "      <td>0.315938</td>\n",
       "    </tr>\n",
       "    <tr>\n",
       "      <th>2020-03-04</th>\n",
       "      <td>-0.384549</td>\n",
       "      <td>-0.417533</td>\n",
       "      <td>-0.897164</td>\n",
       "      <td>-1.854939</td>\n",
       "    </tr>\n",
       "    <tr>\n",
       "      <th>2020-03-05</th>\n",
       "      <td>-0.880490</td>\n",
       "      <td>0.042888</td>\n",
       "      <td>-1.919083</td>\n",
       "      <td>-1.659843</td>\n",
       "    </tr>\n",
       "    <tr>\n",
       "      <th>2020-03-06</th>\n",
       "      <td>0.619397</td>\n",
       "      <td>-1.990048</td>\n",
       "      <td>1.175118</td>\n",
       "      <td>-0.254716</td>\n",
       "    </tr>\n",
       "    <tr>\n",
       "      <th>2020-03-07</th>\n",
       "      <td>-0.928257</td>\n",
       "      <td>-0.121271</td>\n",
       "      <td>-0.752862</td>\n",
       "      <td>1.598800</td>\n",
       "    </tr>\n",
       "    <tr>\n",
       "      <th>2020-03-08</th>\n",
       "      <td>-0.755247</td>\n",
       "      <td>0.972821</td>\n",
       "      <td>-1.285380</td>\n",
       "      <td>0.814243</td>\n",
       "    </tr>\n",
       "    <tr>\n",
       "      <th>2020-03-09</th>\n",
       "      <td>-0.265290</td>\n",
       "      <td>-0.768535</td>\n",
       "      <td>0.351549</td>\n",
       "      <td>1.220630</td>\n",
       "    </tr>\n",
       "    <tr>\n",
       "      <th>2020-03-10</th>\n",
       "      <td>-0.099783</td>\n",
       "      <td>-0.641125</td>\n",
       "      <td>0.881830</td>\n",
       "      <td>0.459393</td>\n",
       "    </tr>\n",
       "  </tbody>\n",
       "</table>\n",
       "</div>"
      ],
      "text/plain": [
       "                   A         B         C         D\n",
       "2020-03-01 -0.435913 -0.922196  0.336476 -0.529754\n",
       "2020-03-02  0.361777  0.219574  1.815068 -0.621757\n",
       "2020-03-03 -0.131161 -0.041310 -1.502897  0.315938\n",
       "2020-03-04 -0.384549 -0.417533 -0.897164 -1.854939\n",
       "2020-03-05 -0.880490  0.042888 -1.919083 -1.659843\n",
       "2020-03-06  0.619397 -1.990048  1.175118 -0.254716\n",
       "2020-03-07 -0.928257 -0.121271 -0.752862  1.598800\n",
       "2020-03-08 -0.755247  0.972821 -1.285380  0.814243\n",
       "2020-03-09 -0.265290 -0.768535  0.351549  1.220630\n",
       "2020-03-10 -0.099783 -0.641125  0.881830  0.459393"
      ]
     },
     "execution_count": 9,
     "metadata": {},
     "output_type": "execute_result"
    }
   ],
   "source": [
    "df"
   ]
  },
  {
   "cell_type": "code",
   "execution_count": 13,
   "id": "9ff1e26a",
   "metadata": {},
   "outputs": [],
   "source": [
    "df1=pd.DataFrame({'A': [1,2,3,4],\n",
    "                  'B':pd.Timestamp('20200301'),\n",
    "                  'C':pd.Series(1,index=list(range(4)),dtype='float32'),\n",
    "                  'D': np.array([5]*4,dtype='int32'),\n",
    "                  'E':pd.Categorical(['true','False','True','False']),\n",
    "                  'F':'Edureka'})"
   ]
  },
  {
   "cell_type": "markdown",
   "id": "7ad4bbcf",
   "metadata": {},
   "source": [
    "# "
   ]
  },
  {
   "cell_type": "code",
   "execution_count": 14,
   "id": "da2a58aa",
   "metadata": {},
   "outputs": [
    {
     "data": {
      "text/html": [
       "<div>\n",
       "<style scoped>\n",
       "    .dataframe tbody tr th:only-of-type {\n",
       "        vertical-align: middle;\n",
       "    }\n",
       "\n",
       "    .dataframe tbody tr th {\n",
       "        vertical-align: top;\n",
       "    }\n",
       "\n",
       "    .dataframe thead th {\n",
       "        text-align: right;\n",
       "    }\n",
       "</style>\n",
       "<table border=\"1\" class=\"dataframe\">\n",
       "  <thead>\n",
       "    <tr style=\"text-align: right;\">\n",
       "      <th></th>\n",
       "      <th>A</th>\n",
       "      <th>B</th>\n",
       "      <th>C</th>\n",
       "      <th>D</th>\n",
       "      <th>E</th>\n",
       "      <th>F</th>\n",
       "    </tr>\n",
       "  </thead>\n",
       "  <tbody>\n",
       "    <tr>\n",
       "      <th>0</th>\n",
       "      <td>1</td>\n",
       "      <td>2020-03-01</td>\n",
       "      <td>1.0</td>\n",
       "      <td>5</td>\n",
       "      <td>true</td>\n",
       "      <td>Edureka</td>\n",
       "    </tr>\n",
       "    <tr>\n",
       "      <th>1</th>\n",
       "      <td>2</td>\n",
       "      <td>2020-03-01</td>\n",
       "      <td>1.0</td>\n",
       "      <td>5</td>\n",
       "      <td>False</td>\n",
       "      <td>Edureka</td>\n",
       "    </tr>\n",
       "    <tr>\n",
       "      <th>2</th>\n",
       "      <td>3</td>\n",
       "      <td>2020-03-01</td>\n",
       "      <td>1.0</td>\n",
       "      <td>5</td>\n",
       "      <td>True</td>\n",
       "      <td>Edureka</td>\n",
       "    </tr>\n",
       "    <tr>\n",
       "      <th>3</th>\n",
       "      <td>4</td>\n",
       "      <td>2020-03-01</td>\n",
       "      <td>1.0</td>\n",
       "      <td>5</td>\n",
       "      <td>False</td>\n",
       "      <td>Edureka</td>\n",
       "    </tr>\n",
       "  </tbody>\n",
       "</table>\n",
       "</div>"
      ],
      "text/plain": [
       "   A          B    C  D      E        F\n",
       "0  1 2020-03-01  1.0  5   true  Edureka\n",
       "1  2 2020-03-01  1.0  5  False  Edureka\n",
       "2  3 2020-03-01  1.0  5   True  Edureka\n",
       "3  4 2020-03-01  1.0  5  False  Edureka"
      ]
     },
     "execution_count": 14,
     "metadata": {},
     "output_type": "execute_result"
    }
   ],
   "source": [
    "df1"
   ]
  },
  {
   "cell_type": "code",
   "execution_count": 15,
   "id": "7ab3a81f",
   "metadata": {},
   "outputs": [
    {
     "data": {
      "text/plain": [
       "A             int64\n",
       "B    datetime64[ns]\n",
       "C           float32\n",
       "D             int32\n",
       "E          category\n",
       "F            object\n",
       "dtype: object"
      ]
     },
     "execution_count": 15,
     "metadata": {},
     "output_type": "execute_result"
    }
   ],
   "source": [
    "df1.dtypes"
   ]
  },
  {
   "cell_type": "code",
   "execution_count": 16,
   "id": "96df80f9",
   "metadata": {},
   "outputs": [
    {
     "data": {
      "text/plain": [
       "A    float64\n",
       "B    float64\n",
       "C    float64\n",
       "D    float64\n",
       "dtype: object"
      ]
     },
     "execution_count": 16,
     "metadata": {},
     "output_type": "execute_result"
    }
   ],
   "source": [
    "df.dtypes"
   ]
  },
  {
   "cell_type": "code",
   "execution_count": 17,
   "id": "de6eab68",
   "metadata": {},
   "outputs": [
    {
     "data": {
      "text/html": [
       "<div>\n",
       "<style scoped>\n",
       "    .dataframe tbody tr th:only-of-type {\n",
       "        vertical-align: middle;\n",
       "    }\n",
       "\n",
       "    .dataframe tbody tr th {\n",
       "        vertical-align: top;\n",
       "    }\n",
       "\n",
       "    .dataframe thead th {\n",
       "        text-align: right;\n",
       "    }\n",
       "</style>\n",
       "<table border=\"1\" class=\"dataframe\">\n",
       "  <thead>\n",
       "    <tr style=\"text-align: right;\">\n",
       "      <th></th>\n",
       "      <th>A</th>\n",
       "      <th>B</th>\n",
       "      <th>C</th>\n",
       "      <th>D</th>\n",
       "    </tr>\n",
       "  </thead>\n",
       "  <tbody>\n",
       "    <tr>\n",
       "      <th>2020-03-01</th>\n",
       "      <td>-0.435913</td>\n",
       "      <td>-0.922196</td>\n",
       "      <td>0.336476</td>\n",
       "      <td>-0.529754</td>\n",
       "    </tr>\n",
       "    <tr>\n",
       "      <th>2020-03-02</th>\n",
       "      <td>0.361777</td>\n",
       "      <td>0.219574</td>\n",
       "      <td>1.815068</td>\n",
       "      <td>-0.621757</td>\n",
       "    </tr>\n",
       "    <tr>\n",
       "      <th>2020-03-03</th>\n",
       "      <td>-0.131161</td>\n",
       "      <td>-0.041310</td>\n",
       "      <td>-1.502897</td>\n",
       "      <td>0.315938</td>\n",
       "    </tr>\n",
       "    <tr>\n",
       "      <th>2020-03-04</th>\n",
       "      <td>-0.384549</td>\n",
       "      <td>-0.417533</td>\n",
       "      <td>-0.897164</td>\n",
       "      <td>-1.854939</td>\n",
       "    </tr>\n",
       "    <tr>\n",
       "      <th>2020-03-05</th>\n",
       "      <td>-0.880490</td>\n",
       "      <td>0.042888</td>\n",
       "      <td>-1.919083</td>\n",
       "      <td>-1.659843</td>\n",
       "    </tr>\n",
       "  </tbody>\n",
       "</table>\n",
       "</div>"
      ],
      "text/plain": [
       "                   A         B         C         D\n",
       "2020-03-01 -0.435913 -0.922196  0.336476 -0.529754\n",
       "2020-03-02  0.361777  0.219574  1.815068 -0.621757\n",
       "2020-03-03 -0.131161 -0.041310 -1.502897  0.315938\n",
       "2020-03-04 -0.384549 -0.417533 -0.897164 -1.854939\n",
       "2020-03-05 -0.880490  0.042888 -1.919083 -1.659843"
      ]
     },
     "execution_count": 17,
     "metadata": {},
     "output_type": "execute_result"
    }
   ],
   "source": [
    "df.head()"
   ]
  },
  {
   "cell_type": "code",
   "execution_count": 18,
   "id": "9c636680",
   "metadata": {},
   "outputs": [
    {
     "data": {
      "text/html": [
       "<div>\n",
       "<style scoped>\n",
       "    .dataframe tbody tr th:only-of-type {\n",
       "        vertical-align: middle;\n",
       "    }\n",
       "\n",
       "    .dataframe tbody tr th {\n",
       "        vertical-align: top;\n",
       "    }\n",
       "\n",
       "    .dataframe thead th {\n",
       "        text-align: right;\n",
       "    }\n",
       "</style>\n",
       "<table border=\"1\" class=\"dataframe\">\n",
       "  <thead>\n",
       "    <tr style=\"text-align: right;\">\n",
       "      <th></th>\n",
       "      <th>A</th>\n",
       "      <th>B</th>\n",
       "      <th>C</th>\n",
       "      <th>D</th>\n",
       "    </tr>\n",
       "  </thead>\n",
       "  <tbody>\n",
       "    <tr>\n",
       "      <th>2020-03-06</th>\n",
       "      <td>0.619397</td>\n",
       "      <td>-1.990048</td>\n",
       "      <td>1.175118</td>\n",
       "      <td>-0.254716</td>\n",
       "    </tr>\n",
       "    <tr>\n",
       "      <th>2020-03-07</th>\n",
       "      <td>-0.928257</td>\n",
       "      <td>-0.121271</td>\n",
       "      <td>-0.752862</td>\n",
       "      <td>1.598800</td>\n",
       "    </tr>\n",
       "    <tr>\n",
       "      <th>2020-03-08</th>\n",
       "      <td>-0.755247</td>\n",
       "      <td>0.972821</td>\n",
       "      <td>-1.285380</td>\n",
       "      <td>0.814243</td>\n",
       "    </tr>\n",
       "    <tr>\n",
       "      <th>2020-03-09</th>\n",
       "      <td>-0.265290</td>\n",
       "      <td>-0.768535</td>\n",
       "      <td>0.351549</td>\n",
       "      <td>1.220630</td>\n",
       "    </tr>\n",
       "    <tr>\n",
       "      <th>2020-03-10</th>\n",
       "      <td>-0.099783</td>\n",
       "      <td>-0.641125</td>\n",
       "      <td>0.881830</td>\n",
       "      <td>0.459393</td>\n",
       "    </tr>\n",
       "  </tbody>\n",
       "</table>\n",
       "</div>"
      ],
      "text/plain": [
       "                   A         B         C         D\n",
       "2020-03-06  0.619397 -1.990048  1.175118 -0.254716\n",
       "2020-03-07 -0.928257 -0.121271 -0.752862  1.598800\n",
       "2020-03-08 -0.755247  0.972821 -1.285380  0.814243\n",
       "2020-03-09 -0.265290 -0.768535  0.351549  1.220630\n",
       "2020-03-10 -0.099783 -0.641125  0.881830  0.459393"
      ]
     },
     "execution_count": 18,
     "metadata": {},
     "output_type": "execute_result"
    }
   ],
   "source": [
    "df.tail()"
   ]
  },
  {
   "cell_type": "code",
   "execution_count": 19,
   "id": "e6122f37",
   "metadata": {},
   "outputs": [
    {
     "data": {
      "text/plain": [
       "DatetimeIndex(['2020-03-01', '2020-03-02', '2020-03-03', '2020-03-04',\n",
       "               '2020-03-05', '2020-03-06', '2020-03-07', '2020-03-08',\n",
       "               '2020-03-09', '2020-03-10'],\n",
       "              dtype='datetime64[ns]', freq='D')"
      ]
     },
     "execution_count": 19,
     "metadata": {},
     "output_type": "execute_result"
    }
   ],
   "source": [
    "df.index"
   ]
  },
  {
   "cell_type": "code",
   "execution_count": 20,
   "id": "a4ef29d9",
   "metadata": {},
   "outputs": [
    {
     "data": {
      "text/plain": [
       "Index(['A', 'B', 'C', 'D'], dtype='object')"
      ]
     },
     "execution_count": 20,
     "metadata": {},
     "output_type": "execute_result"
    }
   ],
   "source": [
    "df.columns"
   ]
  },
  {
   "cell_type": "code",
   "execution_count": 21,
   "id": "3fa6b9a0",
   "metadata": {},
   "outputs": [
    {
     "data": {
      "text/plain": [
       "array([[-0.43591296, -0.92219563,  0.33647633, -0.52975381],\n",
       "       [ 0.36177658,  0.2195742 ,  1.81506809, -0.62175668],\n",
       "       [-0.13116064, -0.04130998, -1.50289712,  0.31593843],\n",
       "       [-0.38454948, -0.41753318, -0.8971637 , -1.85493856],\n",
       "       [-0.88049015,  0.04288784, -1.91908277, -1.65984299],\n",
       "       [ 0.61939723, -1.99004843,  1.17511819, -0.2547161 ],\n",
       "       [-0.92825672, -0.12127081, -0.75286239,  1.59880027],\n",
       "       [-0.75524727,  0.9728207 , -1.2853795 ,  0.81424255],\n",
       "       [-0.26528964, -0.76853497,  0.35154921,  1.2206296 ],\n",
       "       [-0.09978298, -0.64112488,  0.88182998,  0.45939334]])"
      ]
     },
     "execution_count": 21,
     "metadata": {},
     "output_type": "execute_result"
    }
   ],
   "source": [
    "df.to_numpy()"
   ]
  },
  {
   "cell_type": "code",
   "execution_count": 22,
   "id": "07bdac9f",
   "metadata": {},
   "outputs": [
    {
     "data": {
      "text/html": [
       "<div>\n",
       "<style scoped>\n",
       "    .dataframe tbody tr th:only-of-type {\n",
       "        vertical-align: middle;\n",
       "    }\n",
       "\n",
       "    .dataframe tbody tr th {\n",
       "        vertical-align: top;\n",
       "    }\n",
       "\n",
       "    .dataframe thead th {\n",
       "        text-align: right;\n",
       "    }\n",
       "</style>\n",
       "<table border=\"1\" class=\"dataframe\">\n",
       "  <thead>\n",
       "    <tr style=\"text-align: right;\">\n",
       "      <th></th>\n",
       "      <th>A</th>\n",
       "      <th>B</th>\n",
       "      <th>C</th>\n",
       "      <th>D</th>\n",
       "    </tr>\n",
       "  </thead>\n",
       "  <tbody>\n",
       "    <tr>\n",
       "      <th>count</th>\n",
       "      <td>10.000000</td>\n",
       "      <td>10.000000</td>\n",
       "      <td>10.000000</td>\n",
       "      <td>10.000000</td>\n",
       "    </tr>\n",
       "    <tr>\n",
       "      <th>mean</th>\n",
       "      <td>-0.289952</td>\n",
       "      <td>-0.366674</td>\n",
       "      <td>-0.179734</td>\n",
       "      <td>-0.051200</td>\n",
       "    </tr>\n",
       "    <tr>\n",
       "      <th>std</th>\n",
       "      <td>0.507343</td>\n",
       "      <td>0.792682</td>\n",
       "      <td>1.261932</td>\n",
       "      <td>1.150928</td>\n",
       "    </tr>\n",
       "    <tr>\n",
       "      <th>min</th>\n",
       "      <td>-0.928257</td>\n",
       "      <td>-1.990048</td>\n",
       "      <td>-1.919083</td>\n",
       "      <td>-1.854939</td>\n",
       "    </tr>\n",
       "    <tr>\n",
       "      <th>25%</th>\n",
       "      <td>-0.675414</td>\n",
       "      <td>-0.736682</td>\n",
       "      <td>-1.188326</td>\n",
       "      <td>-0.598756</td>\n",
       "    </tr>\n",
       "    <tr>\n",
       "      <th>50%</th>\n",
       "      <td>-0.324920</td>\n",
       "      <td>-0.269402</td>\n",
       "      <td>-0.208193</td>\n",
       "      <td>0.030611</td>\n",
       "    </tr>\n",
       "    <tr>\n",
       "      <th>75%</th>\n",
       "      <td>-0.107627</td>\n",
       "      <td>0.021838</td>\n",
       "      <td>0.749260</td>\n",
       "      <td>0.725530</td>\n",
       "    </tr>\n",
       "    <tr>\n",
       "      <th>max</th>\n",
       "      <td>0.619397</td>\n",
       "      <td>0.972821</td>\n",
       "      <td>1.815068</td>\n",
       "      <td>1.598800</td>\n",
       "    </tr>\n",
       "  </tbody>\n",
       "</table>\n",
       "</div>"
      ],
      "text/plain": [
       "               A          B          C          D\n",
       "count  10.000000  10.000000  10.000000  10.000000\n",
       "mean   -0.289952  -0.366674  -0.179734  -0.051200\n",
       "std     0.507343   0.792682   1.261932   1.150928\n",
       "min    -0.928257  -1.990048  -1.919083  -1.854939\n",
       "25%    -0.675414  -0.736682  -1.188326  -0.598756\n",
       "50%    -0.324920  -0.269402  -0.208193   0.030611\n",
       "75%    -0.107627   0.021838   0.749260   0.725530\n",
       "max     0.619397   0.972821   1.815068   1.598800"
      ]
     },
     "execution_count": 22,
     "metadata": {},
     "output_type": "execute_result"
    }
   ],
   "source": [
    "df.describe()"
   ]
  },
  {
   "cell_type": "code",
   "execution_count": 23,
   "id": "3c9d677a",
   "metadata": {},
   "outputs": [
    {
     "data": {
      "text/html": [
       "<div>\n",
       "<style scoped>\n",
       "    .dataframe tbody tr th:only-of-type {\n",
       "        vertical-align: middle;\n",
       "    }\n",
       "\n",
       "    .dataframe tbody tr th {\n",
       "        vertical-align: top;\n",
       "    }\n",
       "\n",
       "    .dataframe thead th {\n",
       "        text-align: right;\n",
       "    }\n",
       "</style>\n",
       "<table border=\"1\" class=\"dataframe\">\n",
       "  <thead>\n",
       "    <tr style=\"text-align: right;\">\n",
       "      <th></th>\n",
       "      <th>D</th>\n",
       "      <th>C</th>\n",
       "      <th>B</th>\n",
       "      <th>A</th>\n",
       "    </tr>\n",
       "  </thead>\n",
       "  <tbody>\n",
       "    <tr>\n",
       "      <th>2020-03-01</th>\n",
       "      <td>-0.529754</td>\n",
       "      <td>0.336476</td>\n",
       "      <td>-0.922196</td>\n",
       "      <td>-0.435913</td>\n",
       "    </tr>\n",
       "    <tr>\n",
       "      <th>2020-03-02</th>\n",
       "      <td>-0.621757</td>\n",
       "      <td>1.815068</td>\n",
       "      <td>0.219574</td>\n",
       "      <td>0.361777</td>\n",
       "    </tr>\n",
       "    <tr>\n",
       "      <th>2020-03-03</th>\n",
       "      <td>0.315938</td>\n",
       "      <td>-1.502897</td>\n",
       "      <td>-0.041310</td>\n",
       "      <td>-0.131161</td>\n",
       "    </tr>\n",
       "    <tr>\n",
       "      <th>2020-03-04</th>\n",
       "      <td>-1.854939</td>\n",
       "      <td>-0.897164</td>\n",
       "      <td>-0.417533</td>\n",
       "      <td>-0.384549</td>\n",
       "    </tr>\n",
       "    <tr>\n",
       "      <th>2020-03-05</th>\n",
       "      <td>-1.659843</td>\n",
       "      <td>-1.919083</td>\n",
       "      <td>0.042888</td>\n",
       "      <td>-0.880490</td>\n",
       "    </tr>\n",
       "    <tr>\n",
       "      <th>2020-03-06</th>\n",
       "      <td>-0.254716</td>\n",
       "      <td>1.175118</td>\n",
       "      <td>-1.990048</td>\n",
       "      <td>0.619397</td>\n",
       "    </tr>\n",
       "    <tr>\n",
       "      <th>2020-03-07</th>\n",
       "      <td>1.598800</td>\n",
       "      <td>-0.752862</td>\n",
       "      <td>-0.121271</td>\n",
       "      <td>-0.928257</td>\n",
       "    </tr>\n",
       "    <tr>\n",
       "      <th>2020-03-08</th>\n",
       "      <td>0.814243</td>\n",
       "      <td>-1.285380</td>\n",
       "      <td>0.972821</td>\n",
       "      <td>-0.755247</td>\n",
       "    </tr>\n",
       "    <tr>\n",
       "      <th>2020-03-09</th>\n",
       "      <td>1.220630</td>\n",
       "      <td>0.351549</td>\n",
       "      <td>-0.768535</td>\n",
       "      <td>-0.265290</td>\n",
       "    </tr>\n",
       "    <tr>\n",
       "      <th>2020-03-10</th>\n",
       "      <td>0.459393</td>\n",
       "      <td>0.881830</td>\n",
       "      <td>-0.641125</td>\n",
       "      <td>-0.099783</td>\n",
       "    </tr>\n",
       "  </tbody>\n",
       "</table>\n",
       "</div>"
      ],
      "text/plain": [
       "                   D         C         B         A\n",
       "2020-03-01 -0.529754  0.336476 -0.922196 -0.435913\n",
       "2020-03-02 -0.621757  1.815068  0.219574  0.361777\n",
       "2020-03-03  0.315938 -1.502897 -0.041310 -0.131161\n",
       "2020-03-04 -1.854939 -0.897164 -0.417533 -0.384549\n",
       "2020-03-05 -1.659843 -1.919083  0.042888 -0.880490\n",
       "2020-03-06 -0.254716  1.175118 -1.990048  0.619397\n",
       "2020-03-07  1.598800 -0.752862 -0.121271 -0.928257\n",
       "2020-03-08  0.814243 -1.285380  0.972821 -0.755247\n",
       "2020-03-09  1.220630  0.351549 -0.768535 -0.265290\n",
       "2020-03-10  0.459393  0.881830 -0.641125 -0.099783"
      ]
     },
     "execution_count": 23,
     "metadata": {},
     "output_type": "execute_result"
    }
   ],
   "source": [
    "df.sort_index(axis=1,ascending=False)"
   ]
  },
  {
   "cell_type": "code",
   "execution_count": 24,
   "id": "142e6cfa",
   "metadata": {},
   "outputs": [
    {
     "data": {
      "text/html": [
       "<div>\n",
       "<style scoped>\n",
       "    .dataframe tbody tr th:only-of-type {\n",
       "        vertical-align: middle;\n",
       "    }\n",
       "\n",
       "    .dataframe tbody tr th {\n",
       "        vertical-align: top;\n",
       "    }\n",
       "\n",
       "    .dataframe thead th {\n",
       "        text-align: right;\n",
       "    }\n",
       "</style>\n",
       "<table border=\"1\" class=\"dataframe\">\n",
       "  <thead>\n",
       "    <tr style=\"text-align: right;\">\n",
       "      <th></th>\n",
       "      <th>A</th>\n",
       "      <th>B</th>\n",
       "      <th>C</th>\n",
       "      <th>D</th>\n",
       "    </tr>\n",
       "  </thead>\n",
       "  <tbody>\n",
       "    <tr>\n",
       "      <th>2020-03-05</th>\n",
       "      <td>-0.880490</td>\n",
       "      <td>0.042888</td>\n",
       "      <td>-1.919083</td>\n",
       "      <td>-1.659843</td>\n",
       "    </tr>\n",
       "    <tr>\n",
       "      <th>2020-03-03</th>\n",
       "      <td>-0.131161</td>\n",
       "      <td>-0.041310</td>\n",
       "      <td>-1.502897</td>\n",
       "      <td>0.315938</td>\n",
       "    </tr>\n",
       "    <tr>\n",
       "      <th>2020-03-08</th>\n",
       "      <td>-0.755247</td>\n",
       "      <td>0.972821</td>\n",
       "      <td>-1.285380</td>\n",
       "      <td>0.814243</td>\n",
       "    </tr>\n",
       "    <tr>\n",
       "      <th>2020-03-04</th>\n",
       "      <td>-0.384549</td>\n",
       "      <td>-0.417533</td>\n",
       "      <td>-0.897164</td>\n",
       "      <td>-1.854939</td>\n",
       "    </tr>\n",
       "    <tr>\n",
       "      <th>2020-03-07</th>\n",
       "      <td>-0.928257</td>\n",
       "      <td>-0.121271</td>\n",
       "      <td>-0.752862</td>\n",
       "      <td>1.598800</td>\n",
       "    </tr>\n",
       "    <tr>\n",
       "      <th>2020-03-01</th>\n",
       "      <td>-0.435913</td>\n",
       "      <td>-0.922196</td>\n",
       "      <td>0.336476</td>\n",
       "      <td>-0.529754</td>\n",
       "    </tr>\n",
       "    <tr>\n",
       "      <th>2020-03-09</th>\n",
       "      <td>-0.265290</td>\n",
       "      <td>-0.768535</td>\n",
       "      <td>0.351549</td>\n",
       "      <td>1.220630</td>\n",
       "    </tr>\n",
       "    <tr>\n",
       "      <th>2020-03-10</th>\n",
       "      <td>-0.099783</td>\n",
       "      <td>-0.641125</td>\n",
       "      <td>0.881830</td>\n",
       "      <td>0.459393</td>\n",
       "    </tr>\n",
       "    <tr>\n",
       "      <th>2020-03-06</th>\n",
       "      <td>0.619397</td>\n",
       "      <td>-1.990048</td>\n",
       "      <td>1.175118</td>\n",
       "      <td>-0.254716</td>\n",
       "    </tr>\n",
       "    <tr>\n",
       "      <th>2020-03-02</th>\n",
       "      <td>0.361777</td>\n",
       "      <td>0.219574</td>\n",
       "      <td>1.815068</td>\n",
       "      <td>-0.621757</td>\n",
       "    </tr>\n",
       "  </tbody>\n",
       "</table>\n",
       "</div>"
      ],
      "text/plain": [
       "                   A         B         C         D\n",
       "2020-03-05 -0.880490  0.042888 -1.919083 -1.659843\n",
       "2020-03-03 -0.131161 -0.041310 -1.502897  0.315938\n",
       "2020-03-08 -0.755247  0.972821 -1.285380  0.814243\n",
       "2020-03-04 -0.384549 -0.417533 -0.897164 -1.854939\n",
       "2020-03-07 -0.928257 -0.121271 -0.752862  1.598800\n",
       "2020-03-01 -0.435913 -0.922196  0.336476 -0.529754\n",
       "2020-03-09 -0.265290 -0.768535  0.351549  1.220630\n",
       "2020-03-10 -0.099783 -0.641125  0.881830  0.459393\n",
       "2020-03-06  0.619397 -1.990048  1.175118 -0.254716\n",
       "2020-03-02  0.361777  0.219574  1.815068 -0.621757"
      ]
     },
     "execution_count": 24,
     "metadata": {},
     "output_type": "execute_result"
    }
   ],
   "source": [
    "df.sort_values(by='C')"
   ]
  },
  {
   "cell_type": "code",
   "execution_count": 25,
   "id": "aa6cf73b",
   "metadata": {},
   "outputs": [
    {
     "data": {
      "text/plain": [
       "2020-03-01    0.336476\n",
       "2020-03-02    1.815068\n",
       "2020-03-03   -1.502897\n",
       "2020-03-04   -0.897164\n",
       "2020-03-05   -1.919083\n",
       "2020-03-06    1.175118\n",
       "2020-03-07   -0.752862\n",
       "2020-03-08   -1.285380\n",
       "2020-03-09    0.351549\n",
       "2020-03-10    0.881830\n",
       "Freq: D, Name: C, dtype: float64"
      ]
     },
     "execution_count": 25,
     "metadata": {},
     "output_type": "execute_result"
    }
   ],
   "source": [
    "df['C']"
   ]
  },
  {
   "cell_type": "code",
   "execution_count": 26,
   "id": "0fbacb3f",
   "metadata": {},
   "outputs": [
    {
     "data": {
      "text/html": [
       "<div>\n",
       "<style scoped>\n",
       "    .dataframe tbody tr th:only-of-type {\n",
       "        vertical-align: middle;\n",
       "    }\n",
       "\n",
       "    .dataframe tbody tr th {\n",
       "        vertical-align: top;\n",
       "    }\n",
       "\n",
       "    .dataframe thead th {\n",
       "        text-align: right;\n",
       "    }\n",
       "</style>\n",
       "<table border=\"1\" class=\"dataframe\">\n",
       "  <thead>\n",
       "    <tr style=\"text-align: right;\">\n",
       "      <th></th>\n",
       "      <th>A</th>\n",
       "      <th>B</th>\n",
       "      <th>C</th>\n",
       "      <th>D</th>\n",
       "    </tr>\n",
       "  </thead>\n",
       "  <tbody>\n",
       "    <tr>\n",
       "      <th>2020-03-01</th>\n",
       "      <td>-0.435913</td>\n",
       "      <td>-0.922196</td>\n",
       "      <td>0.336476</td>\n",
       "      <td>-0.529754</td>\n",
       "    </tr>\n",
       "    <tr>\n",
       "      <th>2020-03-02</th>\n",
       "      <td>0.361777</td>\n",
       "      <td>0.219574</td>\n",
       "      <td>1.815068</td>\n",
       "      <td>-0.621757</td>\n",
       "    </tr>\n",
       "    <tr>\n",
       "      <th>2020-03-03</th>\n",
       "      <td>-0.131161</td>\n",
       "      <td>-0.041310</td>\n",
       "      <td>-1.502897</td>\n",
       "      <td>0.315938</td>\n",
       "    </tr>\n",
       "  </tbody>\n",
       "</table>\n",
       "</div>"
      ],
      "text/plain": [
       "                   A         B         C         D\n",
       "2020-03-01 -0.435913 -0.922196  0.336476 -0.529754\n",
       "2020-03-02  0.361777  0.219574  1.815068 -0.621757\n",
       "2020-03-03 -0.131161 -0.041310 -1.502897  0.315938"
      ]
     },
     "execution_count": 26,
     "metadata": {},
     "output_type": "execute_result"
    }
   ],
   "source": [
    "df[0:3]"
   ]
  },
  {
   "cell_type": "code",
   "execution_count": 27,
   "id": "a1fe2053",
   "metadata": {},
   "outputs": [
    {
     "data": {
      "text/html": [
       "<div>\n",
       "<style scoped>\n",
       "    .dataframe tbody tr th:only-of-type {\n",
       "        vertical-align: middle;\n",
       "    }\n",
       "\n",
       "    .dataframe tbody tr th {\n",
       "        vertical-align: top;\n",
       "    }\n",
       "\n",
       "    .dataframe thead th {\n",
       "        text-align: right;\n",
       "    }\n",
       "</style>\n",
       "<table border=\"1\" class=\"dataframe\">\n",
       "  <thead>\n",
       "    <tr style=\"text-align: right;\">\n",
       "      <th></th>\n",
       "      <th>A</th>\n",
       "      <th>B</th>\n",
       "      <th>C</th>\n",
       "      <th>D</th>\n",
       "    </tr>\n",
       "  </thead>\n",
       "  <tbody>\n",
       "    <tr>\n",
       "      <th>2020-03-01</th>\n",
       "      <td>-0.435913</td>\n",
       "      <td>-0.922196</td>\n",
       "      <td>0.336476</td>\n",
       "      <td>-0.529754</td>\n",
       "    </tr>\n",
       "    <tr>\n",
       "      <th>2020-03-02</th>\n",
       "      <td>0.361777</td>\n",
       "      <td>0.219574</td>\n",
       "      <td>1.815068</td>\n",
       "      <td>-0.621757</td>\n",
       "    </tr>\n",
       "    <tr>\n",
       "      <th>2020-03-03</th>\n",
       "      <td>-0.131161</td>\n",
       "      <td>-0.041310</td>\n",
       "      <td>-1.502897</td>\n",
       "      <td>0.315938</td>\n",
       "    </tr>\n",
       "    <tr>\n",
       "      <th>2020-03-04</th>\n",
       "      <td>-0.384549</td>\n",
       "      <td>-0.417533</td>\n",
       "      <td>-0.897164</td>\n",
       "      <td>-1.854939</td>\n",
       "    </tr>\n",
       "    <tr>\n",
       "      <th>2020-03-05</th>\n",
       "      <td>-0.880490</td>\n",
       "      <td>0.042888</td>\n",
       "      <td>-1.919083</td>\n",
       "      <td>-1.659843</td>\n",
       "    </tr>\n",
       "    <tr>\n",
       "      <th>2020-03-06</th>\n",
       "      <td>0.619397</td>\n",
       "      <td>-1.990048</td>\n",
       "      <td>1.175118</td>\n",
       "      <td>-0.254716</td>\n",
       "    </tr>\n",
       "  </tbody>\n",
       "</table>\n",
       "</div>"
      ],
      "text/plain": [
       "                   A         B         C         D\n",
       "2020-03-01 -0.435913 -0.922196  0.336476 -0.529754\n",
       "2020-03-02  0.361777  0.219574  1.815068 -0.621757\n",
       "2020-03-03 -0.131161 -0.041310 -1.502897  0.315938\n",
       "2020-03-04 -0.384549 -0.417533 -0.897164 -1.854939\n",
       "2020-03-05 -0.880490  0.042888 -1.919083 -1.659843\n",
       "2020-03-06  0.619397 -1.990048  1.175118 -0.254716"
      ]
     },
     "execution_count": 27,
     "metadata": {},
     "output_type": "execute_result"
    }
   ],
   "source": [
    "df[0:6]"
   ]
  },
  {
   "cell_type": "code",
   "execution_count": 28,
   "id": "68c91456",
   "metadata": {},
   "outputs": [
    {
     "data": {
      "text/plain": [
       "A   -0.435913\n",
       "B   -0.922196\n",
       "C    0.336476\n",
       "D   -0.529754\n",
       "Name: 2020-03-01 00:00:00, dtype: float64"
      ]
     },
     "execution_count": 28,
     "metadata": {},
     "output_type": "execute_result"
    }
   ],
   "source": [
    "df.loc[d[0]]"
   ]
  },
  {
   "cell_type": "code",
   "execution_count": 29,
   "id": "62918c60",
   "metadata": {},
   "outputs": [
    {
     "data": {
      "text/html": [
       "<div>\n",
       "<style scoped>\n",
       "    .dataframe tbody tr th:only-of-type {\n",
       "        vertical-align: middle;\n",
       "    }\n",
       "\n",
       "    .dataframe tbody tr th {\n",
       "        vertical-align: top;\n",
       "    }\n",
       "\n",
       "    .dataframe thead th {\n",
       "        text-align: right;\n",
       "    }\n",
       "</style>\n",
       "<table border=\"1\" class=\"dataframe\">\n",
       "  <thead>\n",
       "    <tr style=\"text-align: right;\">\n",
       "      <th></th>\n",
       "      <th>A</th>\n",
       "      <th>C</th>\n",
       "    </tr>\n",
       "  </thead>\n",
       "  <tbody>\n",
       "    <tr>\n",
       "      <th>2020-03-01</th>\n",
       "      <td>-0.435913</td>\n",
       "      <td>0.336476</td>\n",
       "    </tr>\n",
       "    <tr>\n",
       "      <th>2020-03-02</th>\n",
       "      <td>0.361777</td>\n",
       "      <td>1.815068</td>\n",
       "    </tr>\n",
       "    <tr>\n",
       "      <th>2020-03-03</th>\n",
       "      <td>-0.131161</td>\n",
       "      <td>-1.502897</td>\n",
       "    </tr>\n",
       "    <tr>\n",
       "      <th>2020-03-04</th>\n",
       "      <td>-0.384549</td>\n",
       "      <td>-0.897164</td>\n",
       "    </tr>\n",
       "    <tr>\n",
       "      <th>2020-03-05</th>\n",
       "      <td>-0.880490</td>\n",
       "      <td>-1.919083</td>\n",
       "    </tr>\n",
       "    <tr>\n",
       "      <th>2020-03-06</th>\n",
       "      <td>0.619397</td>\n",
       "      <td>1.175118</td>\n",
       "    </tr>\n",
       "    <tr>\n",
       "      <th>2020-03-07</th>\n",
       "      <td>-0.928257</td>\n",
       "      <td>-0.752862</td>\n",
       "    </tr>\n",
       "    <tr>\n",
       "      <th>2020-03-08</th>\n",
       "      <td>-0.755247</td>\n",
       "      <td>-1.285380</td>\n",
       "    </tr>\n",
       "    <tr>\n",
       "      <th>2020-03-09</th>\n",
       "      <td>-0.265290</td>\n",
       "      <td>0.351549</td>\n",
       "    </tr>\n",
       "    <tr>\n",
       "      <th>2020-03-10</th>\n",
       "      <td>-0.099783</td>\n",
       "      <td>0.881830</td>\n",
       "    </tr>\n",
       "  </tbody>\n",
       "</table>\n",
       "</div>"
      ],
      "text/plain": [
       "                   A         C\n",
       "2020-03-01 -0.435913  0.336476\n",
       "2020-03-02  0.361777  1.815068\n",
       "2020-03-03 -0.131161 -1.502897\n",
       "2020-03-04 -0.384549 -0.897164\n",
       "2020-03-05 -0.880490 -1.919083\n",
       "2020-03-06  0.619397  1.175118\n",
       "2020-03-07 -0.928257 -0.752862\n",
       "2020-03-08 -0.755247 -1.285380\n",
       "2020-03-09 -0.265290  0.351549\n",
       "2020-03-10 -0.099783  0.881830"
      ]
     },
     "execution_count": 29,
     "metadata": {},
     "output_type": "execute_result"
    }
   ],
   "source": [
    "df.loc[:,['A','C']]"
   ]
  },
  {
   "cell_type": "code",
   "execution_count": 30,
   "id": "e62b3687",
   "metadata": {},
   "outputs": [
    {
     "data": {
      "text/html": [
       "<div>\n",
       "<style scoped>\n",
       "    .dataframe tbody tr th:only-of-type {\n",
       "        vertical-align: middle;\n",
       "    }\n",
       "\n",
       "    .dataframe tbody tr th {\n",
       "        vertical-align: top;\n",
       "    }\n",
       "\n",
       "    .dataframe thead th {\n",
       "        text-align: right;\n",
       "    }\n",
       "</style>\n",
       "<table border=\"1\" class=\"dataframe\">\n",
       "  <thead>\n",
       "    <tr style=\"text-align: right;\">\n",
       "      <th></th>\n",
       "      <th>B</th>\n",
       "      <th>C</th>\n",
       "    </tr>\n",
       "  </thead>\n",
       "  <tbody>\n",
       "    <tr>\n",
       "      <th>2020-03-01</th>\n",
       "      <td>-0.922196</td>\n",
       "      <td>0.336476</td>\n",
       "    </tr>\n",
       "    <tr>\n",
       "      <th>2020-03-02</th>\n",
       "      <td>0.219574</td>\n",
       "      <td>1.815068</td>\n",
       "    </tr>\n",
       "    <tr>\n",
       "      <th>2020-03-03</th>\n",
       "      <td>-0.041310</td>\n",
       "      <td>-1.502897</td>\n",
       "    </tr>\n",
       "    <tr>\n",
       "      <th>2020-03-04</th>\n",
       "      <td>-0.417533</td>\n",
       "      <td>-0.897164</td>\n",
       "    </tr>\n",
       "    <tr>\n",
       "      <th>2020-03-05</th>\n",
       "      <td>0.042888</td>\n",
       "      <td>-1.919083</td>\n",
       "    </tr>\n",
       "    <tr>\n",
       "      <th>2020-03-06</th>\n",
       "      <td>-1.990048</td>\n",
       "      <td>1.175118</td>\n",
       "    </tr>\n",
       "    <tr>\n",
       "      <th>2020-03-07</th>\n",
       "      <td>-0.121271</td>\n",
       "      <td>-0.752862</td>\n",
       "    </tr>\n",
       "    <tr>\n",
       "      <th>2020-03-08</th>\n",
       "      <td>0.972821</td>\n",
       "      <td>-1.285380</td>\n",
       "    </tr>\n",
       "    <tr>\n",
       "      <th>2020-03-09</th>\n",
       "      <td>-0.768535</td>\n",
       "      <td>0.351549</td>\n",
       "    </tr>\n",
       "    <tr>\n",
       "      <th>2020-03-10</th>\n",
       "      <td>-0.641125</td>\n",
       "      <td>0.881830</td>\n",
       "    </tr>\n",
       "  </tbody>\n",
       "</table>\n",
       "</div>"
      ],
      "text/plain": [
       "                   B         C\n",
       "2020-03-01 -0.922196  0.336476\n",
       "2020-03-02  0.219574  1.815068\n",
       "2020-03-03 -0.041310 -1.502897\n",
       "2020-03-04 -0.417533 -0.897164\n",
       "2020-03-05  0.042888 -1.919083\n",
       "2020-03-06 -1.990048  1.175118\n",
       "2020-03-07 -0.121271 -0.752862\n",
       "2020-03-08  0.972821 -1.285380\n",
       "2020-03-09 -0.768535  0.351549\n",
       "2020-03-10 -0.641125  0.881830"
      ]
     },
     "execution_count": 30,
     "metadata": {},
     "output_type": "execute_result"
    }
   ],
   "source": [
    "df.loc[:,['B','C']]"
   ]
  },
  {
   "cell_type": "code",
   "execution_count": 31,
   "id": "dc216aa9",
   "metadata": {},
   "outputs": [
    {
     "data": {
      "text/html": [
       "<div>\n",
       "<style scoped>\n",
       "    .dataframe tbody tr th:only-of-type {\n",
       "        vertical-align: middle;\n",
       "    }\n",
       "\n",
       "    .dataframe tbody tr th {\n",
       "        vertical-align: top;\n",
       "    }\n",
       "\n",
       "    .dataframe thead th {\n",
       "        text-align: right;\n",
       "    }\n",
       "</style>\n",
       "<table border=\"1\" class=\"dataframe\">\n",
       "  <thead>\n",
       "    <tr style=\"text-align: right;\">\n",
       "      <th></th>\n",
       "      <th>D</th>\n",
       "      <th>C</th>\n",
       "    </tr>\n",
       "  </thead>\n",
       "  <tbody>\n",
       "    <tr>\n",
       "      <th>2020-03-01</th>\n",
       "      <td>-0.529754</td>\n",
       "      <td>0.336476</td>\n",
       "    </tr>\n",
       "    <tr>\n",
       "      <th>2020-03-02</th>\n",
       "      <td>-0.621757</td>\n",
       "      <td>1.815068</td>\n",
       "    </tr>\n",
       "    <tr>\n",
       "      <th>2020-03-03</th>\n",
       "      <td>0.315938</td>\n",
       "      <td>-1.502897</td>\n",
       "    </tr>\n",
       "    <tr>\n",
       "      <th>2020-03-04</th>\n",
       "      <td>-1.854939</td>\n",
       "      <td>-0.897164</td>\n",
       "    </tr>\n",
       "    <tr>\n",
       "      <th>2020-03-05</th>\n",
       "      <td>-1.659843</td>\n",
       "      <td>-1.919083</td>\n",
       "    </tr>\n",
       "    <tr>\n",
       "      <th>2020-03-06</th>\n",
       "      <td>-0.254716</td>\n",
       "      <td>1.175118</td>\n",
       "    </tr>\n",
       "    <tr>\n",
       "      <th>2020-03-07</th>\n",
       "      <td>1.598800</td>\n",
       "      <td>-0.752862</td>\n",
       "    </tr>\n",
       "    <tr>\n",
       "      <th>2020-03-08</th>\n",
       "      <td>0.814243</td>\n",
       "      <td>-1.285380</td>\n",
       "    </tr>\n",
       "    <tr>\n",
       "      <th>2020-03-09</th>\n",
       "      <td>1.220630</td>\n",
       "      <td>0.351549</td>\n",
       "    </tr>\n",
       "    <tr>\n",
       "      <th>2020-03-10</th>\n",
       "      <td>0.459393</td>\n",
       "      <td>0.881830</td>\n",
       "    </tr>\n",
       "  </tbody>\n",
       "</table>\n",
       "</div>"
      ],
      "text/plain": [
       "                   D         C\n",
       "2020-03-01 -0.529754  0.336476\n",
       "2020-03-02 -0.621757  1.815068\n",
       "2020-03-03  0.315938 -1.502897\n",
       "2020-03-04 -1.854939 -0.897164\n",
       "2020-03-05 -1.659843 -1.919083\n",
       "2020-03-06 -0.254716  1.175118\n",
       "2020-03-07  1.598800 -0.752862\n",
       "2020-03-08  0.814243 -1.285380\n",
       "2020-03-09  1.220630  0.351549\n",
       "2020-03-10  0.459393  0.881830"
      ]
     },
     "execution_count": 31,
     "metadata": {},
     "output_type": "execute_result"
    }
   ],
   "source": [
    "df.loc[:,['D','C']]"
   ]
  },
  {
   "cell_type": "code",
   "execution_count": 32,
   "id": "008db2cc",
   "metadata": {},
   "outputs": [
    {
     "data": {
      "text/html": [
       "<div>\n",
       "<style scoped>\n",
       "    .dataframe tbody tr th:only-of-type {\n",
       "        vertical-align: middle;\n",
       "    }\n",
       "\n",
       "    .dataframe tbody tr th {\n",
       "        vertical-align: top;\n",
       "    }\n",
       "\n",
       "    .dataframe thead th {\n",
       "        text-align: right;\n",
       "    }\n",
       "</style>\n",
       "<table border=\"1\" class=\"dataframe\">\n",
       "  <thead>\n",
       "    <tr style=\"text-align: right;\">\n",
       "      <th></th>\n",
       "      <th>D</th>\n",
       "      <th>C</th>\n",
       "    </tr>\n",
       "  </thead>\n",
       "  <tbody>\n",
       "    <tr>\n",
       "      <th>2020-03-01</th>\n",
       "      <td>-0.529754</td>\n",
       "      <td>0.336476</td>\n",
       "    </tr>\n",
       "    <tr>\n",
       "      <th>2020-03-02</th>\n",
       "      <td>-0.621757</td>\n",
       "      <td>1.815068</td>\n",
       "    </tr>\n",
       "    <tr>\n",
       "      <th>2020-03-03</th>\n",
       "      <td>0.315938</td>\n",
       "      <td>-1.502897</td>\n",
       "    </tr>\n",
       "    <tr>\n",
       "      <th>2020-03-04</th>\n",
       "      <td>-1.854939</td>\n",
       "      <td>-0.897164</td>\n",
       "    </tr>\n",
       "    <tr>\n",
       "      <th>2020-03-05</th>\n",
       "      <td>-1.659843</td>\n",
       "      <td>-1.919083</td>\n",
       "    </tr>\n",
       "    <tr>\n",
       "      <th>2020-03-06</th>\n",
       "      <td>-0.254716</td>\n",
       "      <td>1.175118</td>\n",
       "    </tr>\n",
       "  </tbody>\n",
       "</table>\n",
       "</div>"
      ],
      "text/plain": [
       "                   D         C\n",
       "2020-03-01 -0.529754  0.336476\n",
       "2020-03-02 -0.621757  1.815068\n",
       "2020-03-03  0.315938 -1.502897\n",
       "2020-03-04 -1.854939 -0.897164\n",
       "2020-03-05 -1.659843 -1.919083\n",
       "2020-03-06 -0.254716  1.175118"
      ]
     },
     "execution_count": 32,
     "metadata": {},
     "output_type": "execute_result"
    }
   ],
   "source": [
    "df.loc['20200301':'20200306',['D','C']]"
   ]
  },
  {
   "cell_type": "code",
   "execution_count": 33,
   "id": "808141ef",
   "metadata": {},
   "outputs": [
    {
     "data": {
      "text/plain": [
       "D   -0.254716\n",
       "C    1.175118\n",
       "Name: 2020-03-06 00:00:00, dtype: float64"
      ]
     },
     "execution_count": 33,
     "metadata": {},
     "output_type": "execute_result"
    }
   ],
   "source": [
    "df.loc['20200306',['D','C']]"
   ]
  },
  {
   "cell_type": "code",
   "execution_count": 34,
   "id": "879f0d1d",
   "metadata": {},
   "outputs": [
    {
     "data": {
      "text/plain": [
       "0.33647632570677183"
      ]
     },
     "execution_count": 34,
     "metadata": {},
     "output_type": "execute_result"
    }
   ],
   "source": [
    "df.at[d[0],'C']"
   ]
  },
  {
   "cell_type": "code",
   "execution_count": 35,
   "id": "b47bacd0",
   "metadata": {},
   "outputs": [
    {
     "data": {
      "text/plain": [
       "A   -0.384549\n",
       "B   -0.417533\n",
       "C   -0.897164\n",
       "D   -1.854939\n",
       "Name: 2020-03-04 00:00:00, dtype: float64"
      ]
     },
     "execution_count": 35,
     "metadata": {},
     "output_type": "execute_result"
    }
   ],
   "source": [
    "df.iloc[3]"
   ]
  },
  {
   "cell_type": "code",
   "execution_count": 36,
   "id": "7307eaa8",
   "metadata": {},
   "outputs": [
    {
     "data": {
      "text/html": [
       "<div>\n",
       "<style scoped>\n",
       "    .dataframe tbody tr th:only-of-type {\n",
       "        vertical-align: middle;\n",
       "    }\n",
       "\n",
       "    .dataframe tbody tr th {\n",
       "        vertical-align: top;\n",
       "    }\n",
       "\n",
       "    .dataframe thead th {\n",
       "        text-align: right;\n",
       "    }\n",
       "</style>\n",
       "<table border=\"1\" class=\"dataframe\">\n",
       "  <thead>\n",
       "    <tr style=\"text-align: right;\">\n",
       "      <th></th>\n",
       "      <th>A</th>\n",
       "      <th>B</th>\n",
       "    </tr>\n",
       "  </thead>\n",
       "  <tbody>\n",
       "    <tr>\n",
       "      <th>2020-03-04</th>\n",
       "      <td>-0.384549</td>\n",
       "      <td>-0.417533</td>\n",
       "    </tr>\n",
       "    <tr>\n",
       "      <th>2020-03-05</th>\n",
       "      <td>-0.880490</td>\n",
       "      <td>0.042888</td>\n",
       "    </tr>\n",
       "  </tbody>\n",
       "</table>\n",
       "</div>"
      ],
      "text/plain": [
       "                   A         B\n",
       "2020-03-04 -0.384549 -0.417533\n",
       "2020-03-05 -0.880490  0.042888"
      ]
     },
     "execution_count": 36,
     "metadata": {},
     "output_type": "execute_result"
    }
   ],
   "source": [
    "df.iloc[3:5,0:2]"
   ]
  },
  {
   "cell_type": "code",
   "execution_count": 37,
   "id": "dd22b4f1",
   "metadata": {},
   "outputs": [
    {
     "data": {
      "text/html": [
       "<div>\n",
       "<style scoped>\n",
       "    .dataframe tbody tr th:only-of-type {\n",
       "        vertical-align: middle;\n",
       "    }\n",
       "\n",
       "    .dataframe tbody tr th {\n",
       "        vertical-align: top;\n",
       "    }\n",
       "\n",
       "    .dataframe thead th {\n",
       "        text-align: right;\n",
       "    }\n",
       "</style>\n",
       "<table border=\"1\" class=\"dataframe\">\n",
       "  <thead>\n",
       "    <tr style=\"text-align: right;\">\n",
       "      <th></th>\n",
       "      <th>A</th>\n",
       "      <th>B</th>\n",
       "      <th>C</th>\n",
       "      <th>D</th>\n",
       "    </tr>\n",
       "  </thead>\n",
       "  <tbody>\n",
       "    <tr>\n",
       "      <th>2020-03-02</th>\n",
       "      <td>0.361777</td>\n",
       "      <td>0.219574</td>\n",
       "      <td>1.815068</td>\n",
       "      <td>-0.621757</td>\n",
       "    </tr>\n",
       "    <tr>\n",
       "      <th>2020-03-06</th>\n",
       "      <td>0.619397</td>\n",
       "      <td>-1.990048</td>\n",
       "      <td>1.175118</td>\n",
       "      <td>-0.254716</td>\n",
       "    </tr>\n",
       "  </tbody>\n",
       "</table>\n",
       "</div>"
      ],
      "text/plain": [
       "                   A         B         C         D\n",
       "2020-03-02  0.361777  0.219574  1.815068 -0.621757\n",
       "2020-03-06  0.619397 -1.990048  1.175118 -0.254716"
      ]
     },
     "execution_count": 37,
     "metadata": {},
     "output_type": "execute_result"
    }
   ],
   "source": [
    "df[df['A']>0]"
   ]
  },
  {
   "cell_type": "code",
   "execution_count": 38,
   "id": "d96cafcd",
   "metadata": {},
   "outputs": [],
   "source": [
    "df2=df.reindex(index=d[0:4],columns=list(df.columns+['E']))"
   ]
  },
  {
   "cell_type": "code",
   "execution_count": 39,
   "id": "290217f8",
   "metadata": {},
   "outputs": [],
   "source": [
    "df2.loc[d[0]:d[1],'E']=1"
   ]
  },
  {
   "cell_type": "code",
   "execution_count": 40,
   "id": "3b54929a",
   "metadata": {},
   "outputs": [
    {
     "data": {
      "text/html": [
       "<div>\n",
       "<style scoped>\n",
       "    .dataframe tbody tr th:only-of-type {\n",
       "        vertical-align: middle;\n",
       "    }\n",
       "\n",
       "    .dataframe tbody tr th {\n",
       "        vertical-align: top;\n",
       "    }\n",
       "\n",
       "    .dataframe thead th {\n",
       "        text-align: right;\n",
       "    }\n",
       "</style>\n",
       "<table border=\"1\" class=\"dataframe\">\n",
       "  <thead>\n",
       "    <tr style=\"text-align: right;\">\n",
       "      <th></th>\n",
       "      <th>AE</th>\n",
       "      <th>BE</th>\n",
       "      <th>CE</th>\n",
       "      <th>DE</th>\n",
       "      <th>E</th>\n",
       "    </tr>\n",
       "  </thead>\n",
       "  <tbody>\n",
       "    <tr>\n",
       "      <th>2020-03-01</th>\n",
       "      <td>NaN</td>\n",
       "      <td>NaN</td>\n",
       "      <td>NaN</td>\n",
       "      <td>NaN</td>\n",
       "      <td>1.0</td>\n",
       "    </tr>\n",
       "    <tr>\n",
       "      <th>2020-03-02</th>\n",
       "      <td>NaN</td>\n",
       "      <td>NaN</td>\n",
       "      <td>NaN</td>\n",
       "      <td>NaN</td>\n",
       "      <td>1.0</td>\n",
       "    </tr>\n",
       "    <tr>\n",
       "      <th>2020-03-03</th>\n",
       "      <td>NaN</td>\n",
       "      <td>NaN</td>\n",
       "      <td>NaN</td>\n",
       "      <td>NaN</td>\n",
       "      <td>NaN</td>\n",
       "    </tr>\n",
       "    <tr>\n",
       "      <th>2020-03-04</th>\n",
       "      <td>NaN</td>\n",
       "      <td>NaN</td>\n",
       "      <td>NaN</td>\n",
       "      <td>NaN</td>\n",
       "      <td>NaN</td>\n",
       "    </tr>\n",
       "  </tbody>\n",
       "</table>\n",
       "</div>"
      ],
      "text/plain": [
       "            AE  BE  CE  DE    E\n",
       "2020-03-01 NaN NaN NaN NaN  1.0\n",
       "2020-03-02 NaN NaN NaN NaN  1.0\n",
       "2020-03-03 NaN NaN NaN NaN  NaN\n",
       "2020-03-04 NaN NaN NaN NaN  NaN"
      ]
     },
     "execution_count": 40,
     "metadata": {},
     "output_type": "execute_result"
    }
   ],
   "source": [
    "df2"
   ]
  },
  {
   "cell_type": "code",
   "execution_count": 41,
   "id": "8d4218eb",
   "metadata": {},
   "outputs": [
    {
     "data": {
      "text/html": [
       "<div>\n",
       "<style scoped>\n",
       "    .dataframe tbody tr th:only-of-type {\n",
       "        vertical-align: middle;\n",
       "    }\n",
       "\n",
       "    .dataframe tbody tr th {\n",
       "        vertical-align: top;\n",
       "    }\n",
       "\n",
       "    .dataframe thead th {\n",
       "        text-align: right;\n",
       "    }\n",
       "</style>\n",
       "<table border=\"1\" class=\"dataframe\">\n",
       "  <thead>\n",
       "    <tr style=\"text-align: right;\">\n",
       "      <th></th>\n",
       "      <th>AE</th>\n",
       "      <th>BE</th>\n",
       "      <th>CE</th>\n",
       "      <th>DE</th>\n",
       "      <th>E</th>\n",
       "    </tr>\n",
       "  </thead>\n",
       "  <tbody>\n",
       "    <tr>\n",
       "      <th>2020-03-01</th>\n",
       "      <td>True</td>\n",
       "      <td>True</td>\n",
       "      <td>True</td>\n",
       "      <td>True</td>\n",
       "      <td>False</td>\n",
       "    </tr>\n",
       "    <tr>\n",
       "      <th>2020-03-02</th>\n",
       "      <td>True</td>\n",
       "      <td>True</td>\n",
       "      <td>True</td>\n",
       "      <td>True</td>\n",
       "      <td>False</td>\n",
       "    </tr>\n",
       "    <tr>\n",
       "      <th>2020-03-03</th>\n",
       "      <td>True</td>\n",
       "      <td>True</td>\n",
       "      <td>True</td>\n",
       "      <td>True</td>\n",
       "      <td>True</td>\n",
       "    </tr>\n",
       "    <tr>\n",
       "      <th>2020-03-04</th>\n",
       "      <td>True</td>\n",
       "      <td>True</td>\n",
       "      <td>True</td>\n",
       "      <td>True</td>\n",
       "      <td>True</td>\n",
       "    </tr>\n",
       "  </tbody>\n",
       "</table>\n",
       "</div>"
      ],
      "text/plain": [
       "              AE    BE    CE    DE      E\n",
       "2020-03-01  True  True  True  True  False\n",
       "2020-03-02  True  True  True  True  False\n",
       "2020-03-03  True  True  True  True   True\n",
       "2020-03-04  True  True  True  True   True"
      ]
     },
     "execution_count": 41,
     "metadata": {},
     "output_type": "execute_result"
    }
   ],
   "source": [
    "df2.isnull()"
   ]
  },
  {
   "cell_type": "code",
   "execution_count": 42,
   "id": "720da6d9",
   "metadata": {},
   "outputs": [
    {
     "data": {
      "text/plain": [
       "AE    4\n",
       "BE    4\n",
       "CE    4\n",
       "DE    4\n",
       "E     4\n",
       "dtype: int64"
      ]
     },
     "execution_count": 42,
     "metadata": {},
     "output_type": "execute_result"
    }
   ],
   "source": [
    "df2.isnull().count()"
   ]
  },
  {
   "cell_type": "code",
   "execution_count": 43,
   "id": "36cc8576",
   "metadata": {},
   "outputs": [
    {
     "data": {
      "text/html": [
       "<div>\n",
       "<style scoped>\n",
       "    .dataframe tbody tr th:only-of-type {\n",
       "        vertical-align: middle;\n",
       "    }\n",
       "\n",
       "    .dataframe tbody tr th {\n",
       "        vertical-align: top;\n",
       "    }\n",
       "\n",
       "    .dataframe thead th {\n",
       "        text-align: right;\n",
       "    }\n",
       "</style>\n",
       "<table border=\"1\" class=\"dataframe\">\n",
       "  <thead>\n",
       "    <tr style=\"text-align: right;\">\n",
       "      <th></th>\n",
       "      <th>AE</th>\n",
       "      <th>BE</th>\n",
       "      <th>CE</th>\n",
       "      <th>DE</th>\n",
       "      <th>E</th>\n",
       "    </tr>\n",
       "  </thead>\n",
       "  <tbody>\n",
       "  </tbody>\n",
       "</table>\n",
       "</div>"
      ],
      "text/plain": [
       "Empty DataFrame\n",
       "Columns: [AE, BE, CE, DE, E]\n",
       "Index: []"
      ]
     },
     "execution_count": 43,
     "metadata": {},
     "output_type": "execute_result"
    }
   ],
   "source": [
    "df2.dropna()"
   ]
  },
  {
   "cell_type": "code",
   "execution_count": 44,
   "id": "1a6a5bfb",
   "metadata": {},
   "outputs": [
    {
     "data": {
      "text/html": [
       "<div>\n",
       "<style scoped>\n",
       "    .dataframe tbody tr th:only-of-type {\n",
       "        vertical-align: middle;\n",
       "    }\n",
       "\n",
       "    .dataframe tbody tr th {\n",
       "        vertical-align: top;\n",
       "    }\n",
       "\n",
       "    .dataframe thead th {\n",
       "        text-align: right;\n",
       "    }\n",
       "</style>\n",
       "<table border=\"1\" class=\"dataframe\">\n",
       "  <thead>\n",
       "    <tr style=\"text-align: right;\">\n",
       "      <th></th>\n",
       "      <th>AE</th>\n",
       "      <th>BE</th>\n",
       "      <th>CE</th>\n",
       "      <th>DE</th>\n",
       "      <th>E</th>\n",
       "    </tr>\n",
       "  </thead>\n",
       "  <tbody>\n",
       "    <tr>\n",
       "      <th>2020-03-01</th>\n",
       "      <td>2.0</td>\n",
       "      <td>2.0</td>\n",
       "      <td>2.0</td>\n",
       "      <td>2.0</td>\n",
       "      <td>1.0</td>\n",
       "    </tr>\n",
       "    <tr>\n",
       "      <th>2020-03-02</th>\n",
       "      <td>2.0</td>\n",
       "      <td>2.0</td>\n",
       "      <td>2.0</td>\n",
       "      <td>2.0</td>\n",
       "      <td>1.0</td>\n",
       "    </tr>\n",
       "    <tr>\n",
       "      <th>2020-03-03</th>\n",
       "      <td>2.0</td>\n",
       "      <td>2.0</td>\n",
       "      <td>2.0</td>\n",
       "      <td>2.0</td>\n",
       "      <td>2.0</td>\n",
       "    </tr>\n",
       "    <tr>\n",
       "      <th>2020-03-04</th>\n",
       "      <td>2.0</td>\n",
       "      <td>2.0</td>\n",
       "      <td>2.0</td>\n",
       "      <td>2.0</td>\n",
       "      <td>2.0</td>\n",
       "    </tr>\n",
       "  </tbody>\n",
       "</table>\n",
       "</div>"
      ],
      "text/plain": [
       "             AE   BE   CE   DE    E\n",
       "2020-03-01  2.0  2.0  2.0  2.0  1.0\n",
       "2020-03-02  2.0  2.0  2.0  2.0  1.0\n",
       "2020-03-03  2.0  2.0  2.0  2.0  2.0\n",
       "2020-03-04  2.0  2.0  2.0  2.0  2.0"
      ]
     },
     "execution_count": 44,
     "metadata": {},
     "output_type": "execute_result"
    }
   ],
   "source": [
    "df2.fillna(value=2)"
   ]
  },
  {
   "cell_type": "code",
   "execution_count": 45,
   "id": "fc294d29",
   "metadata": {},
   "outputs": [
    {
     "data": {
      "text/html": [
       "<div>\n",
       "<style scoped>\n",
       "    .dataframe tbody tr th:only-of-type {\n",
       "        vertical-align: middle;\n",
       "    }\n",
       "\n",
       "    .dataframe tbody tr th {\n",
       "        vertical-align: top;\n",
       "    }\n",
       "\n",
       "    .dataframe thead th {\n",
       "        text-align: right;\n",
       "    }\n",
       "</style>\n",
       "<table border=\"1\" class=\"dataframe\">\n",
       "  <thead>\n",
       "    <tr style=\"text-align: right;\">\n",
       "      <th></th>\n",
       "      <th>AE</th>\n",
       "      <th>BE</th>\n",
       "      <th>CE</th>\n",
       "      <th>DE</th>\n",
       "      <th>E</th>\n",
       "    </tr>\n",
       "  </thead>\n",
       "  <tbody>\n",
       "    <tr>\n",
       "      <th>2020-03-01</th>\n",
       "      <td>True</td>\n",
       "      <td>True</td>\n",
       "      <td>True</td>\n",
       "      <td>True</td>\n",
       "      <td>False</td>\n",
       "    </tr>\n",
       "    <tr>\n",
       "      <th>2020-03-02</th>\n",
       "      <td>True</td>\n",
       "      <td>True</td>\n",
       "      <td>True</td>\n",
       "      <td>True</td>\n",
       "      <td>False</td>\n",
       "    </tr>\n",
       "    <tr>\n",
       "      <th>2020-03-03</th>\n",
       "      <td>True</td>\n",
       "      <td>True</td>\n",
       "      <td>True</td>\n",
       "      <td>True</td>\n",
       "      <td>True</td>\n",
       "    </tr>\n",
       "    <tr>\n",
       "      <th>2020-03-04</th>\n",
       "      <td>True</td>\n",
       "      <td>True</td>\n",
       "      <td>True</td>\n",
       "      <td>True</td>\n",
       "      <td>True</td>\n",
       "    </tr>\n",
       "  </tbody>\n",
       "</table>\n",
       "</div>"
      ],
      "text/plain": [
       "              AE    BE    CE    DE      E\n",
       "2020-03-01  True  True  True  True  False\n",
       "2020-03-02  True  True  True  True  False\n",
       "2020-03-03  True  True  True  True   True\n",
       "2020-03-04  True  True  True  True   True"
      ]
     },
     "execution_count": 45,
     "metadata": {},
     "output_type": "execute_result"
    }
   ],
   "source": [
    "pd.isna(df2)"
   ]
  },
  {
   "cell_type": "code",
   "execution_count": 46,
   "id": "a6e05680",
   "metadata": {},
   "outputs": [
    {
     "data": {
      "text/plain": [
       "A   -0.289952\n",
       "B   -0.366674\n",
       "C   -0.179734\n",
       "D   -0.051200\n",
       "dtype: float64"
      ]
     },
     "execution_count": 46,
     "metadata": {},
     "output_type": "execute_result"
    }
   ],
   "source": [
    "df.mean()"
   ]
  },
  {
   "cell_type": "code",
   "execution_count": 47,
   "id": "d4b42286",
   "metadata": {},
   "outputs": [
    {
     "data": {
      "text/plain": [
       "2020-03-01   -0.387847\n",
       "2020-03-02    0.443666\n",
       "2020-03-03   -0.339857\n",
       "2020-03-04   -0.888546\n",
       "2020-03-05   -1.104132\n",
       "2020-03-06   -0.112562\n",
       "2020-03-07   -0.050897\n",
       "2020-03-08   -0.063391\n",
       "2020-03-09    0.134589\n",
       "2020-03-10    0.150079\n",
       "Freq: D, dtype: float64"
      ]
     },
     "execution_count": 47,
     "metadata": {},
     "output_type": "execute_result"
    }
   ],
   "source": [
    "df.mean(1)"
   ]
  },
  {
   "cell_type": "code",
   "execution_count": 48,
   "id": "28705685",
   "metadata": {},
   "outputs": [],
   "source": [
    "s=pd.Series([1,2,3,np.nan,4,5,6,7,8,9],index=d.shift(2))"
   ]
  },
  {
   "cell_type": "code",
   "execution_count": 49,
   "id": "aab636df",
   "metadata": {},
   "outputs": [
    {
     "data": {
      "text/plain": [
       "2020-03-03    1.0\n",
       "2020-03-04    2.0\n",
       "2020-03-05    3.0\n",
       "2020-03-06    NaN\n",
       "2020-03-07    4.0\n",
       "2020-03-08    5.0\n",
       "2020-03-09    6.0\n",
       "2020-03-10    7.0\n",
       "2020-03-11    8.0\n",
       "2020-03-12    9.0\n",
       "Freq: D, dtype: float64"
      ]
     },
     "execution_count": 49,
     "metadata": {},
     "output_type": "execute_result"
    }
   ],
   "source": [
    "s"
   ]
  },
  {
   "cell_type": "code",
   "execution_count": 50,
   "id": "4519f16b",
   "metadata": {},
   "outputs": [
    {
     "data": {
      "text/html": [
       "<div>\n",
       "<style scoped>\n",
       "    .dataframe tbody tr th:only-of-type {\n",
       "        vertical-align: middle;\n",
       "    }\n",
       "\n",
       "    .dataframe tbody tr th {\n",
       "        vertical-align: top;\n",
       "    }\n",
       "\n",
       "    .dataframe thead th {\n",
       "        text-align: right;\n",
       "    }\n",
       "</style>\n",
       "<table border=\"1\" class=\"dataframe\">\n",
       "  <thead>\n",
       "    <tr style=\"text-align: right;\">\n",
       "      <th></th>\n",
       "      <th>A</th>\n",
       "      <th>B</th>\n",
       "      <th>C</th>\n",
       "      <th>D</th>\n",
       "    </tr>\n",
       "  </thead>\n",
       "  <tbody>\n",
       "    <tr>\n",
       "      <th>2020-03-01</th>\n",
       "      <td>NaN</td>\n",
       "      <td>NaN</td>\n",
       "      <td>NaN</td>\n",
       "      <td>NaN</td>\n",
       "    </tr>\n",
       "    <tr>\n",
       "      <th>2020-03-02</th>\n",
       "      <td>NaN</td>\n",
       "      <td>NaN</td>\n",
       "      <td>NaN</td>\n",
       "      <td>NaN</td>\n",
       "    </tr>\n",
       "    <tr>\n",
       "      <th>2020-03-03</th>\n",
       "      <td>-1.131161</td>\n",
       "      <td>-1.041310</td>\n",
       "      <td>-2.502897</td>\n",
       "      <td>-0.684062</td>\n",
       "    </tr>\n",
       "    <tr>\n",
       "      <th>2020-03-04</th>\n",
       "      <td>-2.384549</td>\n",
       "      <td>-2.417533</td>\n",
       "      <td>-2.897164</td>\n",
       "      <td>-3.854939</td>\n",
       "    </tr>\n",
       "    <tr>\n",
       "      <th>2020-03-05</th>\n",
       "      <td>-3.880490</td>\n",
       "      <td>-2.957112</td>\n",
       "      <td>-4.919083</td>\n",
       "      <td>-4.659843</td>\n",
       "    </tr>\n",
       "    <tr>\n",
       "      <th>2020-03-06</th>\n",
       "      <td>NaN</td>\n",
       "      <td>NaN</td>\n",
       "      <td>NaN</td>\n",
       "      <td>NaN</td>\n",
       "    </tr>\n",
       "    <tr>\n",
       "      <th>2020-03-07</th>\n",
       "      <td>-4.928257</td>\n",
       "      <td>-4.121271</td>\n",
       "      <td>-4.752862</td>\n",
       "      <td>-2.401200</td>\n",
       "    </tr>\n",
       "    <tr>\n",
       "      <th>2020-03-08</th>\n",
       "      <td>-5.755247</td>\n",
       "      <td>-4.027179</td>\n",
       "      <td>-6.285380</td>\n",
       "      <td>-4.185757</td>\n",
       "    </tr>\n",
       "    <tr>\n",
       "      <th>2020-03-09</th>\n",
       "      <td>-6.265290</td>\n",
       "      <td>-6.768535</td>\n",
       "      <td>-5.648451</td>\n",
       "      <td>-4.779370</td>\n",
       "    </tr>\n",
       "    <tr>\n",
       "      <th>2020-03-10</th>\n",
       "      <td>-7.099783</td>\n",
       "      <td>-7.641125</td>\n",
       "      <td>-6.118170</td>\n",
       "      <td>-6.540607</td>\n",
       "    </tr>\n",
       "    <tr>\n",
       "      <th>2020-03-11</th>\n",
       "      <td>NaN</td>\n",
       "      <td>NaN</td>\n",
       "      <td>NaN</td>\n",
       "      <td>NaN</td>\n",
       "    </tr>\n",
       "    <tr>\n",
       "      <th>2020-03-12</th>\n",
       "      <td>NaN</td>\n",
       "      <td>NaN</td>\n",
       "      <td>NaN</td>\n",
       "      <td>NaN</td>\n",
       "    </tr>\n",
       "  </tbody>\n",
       "</table>\n",
       "</div>"
      ],
      "text/plain": [
       "                   A         B         C         D\n",
       "2020-03-01       NaN       NaN       NaN       NaN\n",
       "2020-03-02       NaN       NaN       NaN       NaN\n",
       "2020-03-03 -1.131161 -1.041310 -2.502897 -0.684062\n",
       "2020-03-04 -2.384549 -2.417533 -2.897164 -3.854939\n",
       "2020-03-05 -3.880490 -2.957112 -4.919083 -4.659843\n",
       "2020-03-06       NaN       NaN       NaN       NaN\n",
       "2020-03-07 -4.928257 -4.121271 -4.752862 -2.401200\n",
       "2020-03-08 -5.755247 -4.027179 -6.285380 -4.185757\n",
       "2020-03-09 -6.265290 -6.768535 -5.648451 -4.779370\n",
       "2020-03-10 -7.099783 -7.641125 -6.118170 -6.540607\n",
       "2020-03-11       NaN       NaN       NaN       NaN\n",
       "2020-03-12       NaN       NaN       NaN       NaN"
      ]
     },
     "execution_count": 50,
     "metadata": {},
     "output_type": "execute_result"
    }
   ],
   "source": [
    "df.sub(s,axis='index')"
   ]
  },
  {
   "cell_type": "code",
   "execution_count": 51,
   "id": "531fb83d",
   "metadata": {},
   "outputs": [
    {
     "data": {
      "text/html": [
       "<div>\n",
       "<style scoped>\n",
       "    .dataframe tbody tr th:only-of-type {\n",
       "        vertical-align: middle;\n",
       "    }\n",
       "\n",
       "    .dataframe tbody tr th {\n",
       "        vertical-align: top;\n",
       "    }\n",
       "\n",
       "    .dataframe thead th {\n",
       "        text-align: right;\n",
       "    }\n",
       "</style>\n",
       "<table border=\"1\" class=\"dataframe\">\n",
       "  <thead>\n",
       "    <tr style=\"text-align: right;\">\n",
       "      <th></th>\n",
       "      <th>A</th>\n",
       "      <th>B</th>\n",
       "      <th>C</th>\n",
       "      <th>D</th>\n",
       "    </tr>\n",
       "  </thead>\n",
       "  <tbody>\n",
       "    <tr>\n",
       "      <th>2020-03-01</th>\n",
       "      <td>-0.435913</td>\n",
       "      <td>-0.922196</td>\n",
       "      <td>0.336476</td>\n",
       "      <td>-0.529754</td>\n",
       "    </tr>\n",
       "    <tr>\n",
       "      <th>2020-03-02</th>\n",
       "      <td>0.361777</td>\n",
       "      <td>0.219574</td>\n",
       "      <td>1.815068</td>\n",
       "      <td>-0.621757</td>\n",
       "    </tr>\n",
       "    <tr>\n",
       "      <th>2020-03-03</th>\n",
       "      <td>-0.131161</td>\n",
       "      <td>-0.041310</td>\n",
       "      <td>-1.502897</td>\n",
       "      <td>0.315938</td>\n",
       "    </tr>\n",
       "    <tr>\n",
       "      <th>2020-03-04</th>\n",
       "      <td>-0.384549</td>\n",
       "      <td>-0.417533</td>\n",
       "      <td>-0.897164</td>\n",
       "      <td>-1.854939</td>\n",
       "    </tr>\n",
       "    <tr>\n",
       "      <th>2020-03-05</th>\n",
       "      <td>-0.880490</td>\n",
       "      <td>0.042888</td>\n",
       "      <td>-1.919083</td>\n",
       "      <td>-1.659843</td>\n",
       "    </tr>\n",
       "    <tr>\n",
       "      <th>2020-03-06</th>\n",
       "      <td>0.619397</td>\n",
       "      <td>-1.990048</td>\n",
       "      <td>1.175118</td>\n",
       "      <td>-0.254716</td>\n",
       "    </tr>\n",
       "    <tr>\n",
       "      <th>2020-03-07</th>\n",
       "      <td>-0.928257</td>\n",
       "      <td>-0.121271</td>\n",
       "      <td>-0.752862</td>\n",
       "      <td>1.598800</td>\n",
       "    </tr>\n",
       "    <tr>\n",
       "      <th>2020-03-08</th>\n",
       "      <td>-0.755247</td>\n",
       "      <td>0.972821</td>\n",
       "      <td>-1.285380</td>\n",
       "      <td>0.814243</td>\n",
       "    </tr>\n",
       "    <tr>\n",
       "      <th>2020-03-09</th>\n",
       "      <td>-0.265290</td>\n",
       "      <td>-0.768535</td>\n",
       "      <td>0.351549</td>\n",
       "      <td>1.220630</td>\n",
       "    </tr>\n",
       "    <tr>\n",
       "      <th>2020-03-10</th>\n",
       "      <td>-0.099783</td>\n",
       "      <td>-0.641125</td>\n",
       "      <td>0.881830</td>\n",
       "      <td>0.459393</td>\n",
       "    </tr>\n",
       "  </tbody>\n",
       "</table>\n",
       "</div>"
      ],
      "text/plain": [
       "                   A         B         C         D\n",
       "2020-03-01 -0.435913 -0.922196  0.336476 -0.529754\n",
       "2020-03-02  0.361777  0.219574  1.815068 -0.621757\n",
       "2020-03-03 -0.131161 -0.041310 -1.502897  0.315938\n",
       "2020-03-04 -0.384549 -0.417533 -0.897164 -1.854939\n",
       "2020-03-05 -0.880490  0.042888 -1.919083 -1.659843\n",
       "2020-03-06  0.619397 -1.990048  1.175118 -0.254716\n",
       "2020-03-07 -0.928257 -0.121271 -0.752862  1.598800\n",
       "2020-03-08 -0.755247  0.972821 -1.285380  0.814243\n",
       "2020-03-09 -0.265290 -0.768535  0.351549  1.220630\n",
       "2020-03-10 -0.099783 -0.641125  0.881830  0.459393"
      ]
     },
     "execution_count": 51,
     "metadata": {},
     "output_type": "execute_result"
    }
   ],
   "source": [
    "df"
   ]
  },
  {
   "cell_type": "code",
   "execution_count": 52,
   "id": "0bf27e70",
   "metadata": {},
   "outputs": [
    {
     "data": {
      "text/html": [
       "<div>\n",
       "<style scoped>\n",
       "    .dataframe tbody tr th:only-of-type {\n",
       "        vertical-align: middle;\n",
       "    }\n",
       "\n",
       "    .dataframe tbody tr th {\n",
       "        vertical-align: top;\n",
       "    }\n",
       "\n",
       "    .dataframe thead th {\n",
       "        text-align: right;\n",
       "    }\n",
       "</style>\n",
       "<table border=\"1\" class=\"dataframe\">\n",
       "  <thead>\n",
       "    <tr style=\"text-align: right;\">\n",
       "      <th></th>\n",
       "      <th>A</th>\n",
       "      <th>B</th>\n",
       "      <th>C</th>\n",
       "      <th>D</th>\n",
       "    </tr>\n",
       "  </thead>\n",
       "  <tbody>\n",
       "    <tr>\n",
       "      <th>2020-03-01</th>\n",
       "      <td>-0.435913</td>\n",
       "      <td>-0.922196</td>\n",
       "      <td>0.336476</td>\n",
       "      <td>-0.529754</td>\n",
       "    </tr>\n",
       "    <tr>\n",
       "      <th>2020-03-02</th>\n",
       "      <td>-0.074136</td>\n",
       "      <td>-0.702621</td>\n",
       "      <td>2.151544</td>\n",
       "      <td>-1.151510</td>\n",
       "    </tr>\n",
       "    <tr>\n",
       "      <th>2020-03-03</th>\n",
       "      <td>-0.205297</td>\n",
       "      <td>-0.743931</td>\n",
       "      <td>0.648647</td>\n",
       "      <td>-0.835572</td>\n",
       "    </tr>\n",
       "    <tr>\n",
       "      <th>2020-03-04</th>\n",
       "      <td>-0.589846</td>\n",
       "      <td>-1.161465</td>\n",
       "      <td>-0.248516</td>\n",
       "      <td>-2.690511</td>\n",
       "    </tr>\n",
       "    <tr>\n",
       "      <th>2020-03-05</th>\n",
       "      <td>-1.470337</td>\n",
       "      <td>-1.118577</td>\n",
       "      <td>-2.167599</td>\n",
       "      <td>-4.350354</td>\n",
       "    </tr>\n",
       "    <tr>\n",
       "      <th>2020-03-06</th>\n",
       "      <td>-0.850939</td>\n",
       "      <td>-3.108625</td>\n",
       "      <td>-0.992481</td>\n",
       "      <td>-4.605070</td>\n",
       "    </tr>\n",
       "    <tr>\n",
       "      <th>2020-03-07</th>\n",
       "      <td>-1.779196</td>\n",
       "      <td>-3.229896</td>\n",
       "      <td>-1.745343</td>\n",
       "      <td>-3.006269</td>\n",
       "    </tr>\n",
       "    <tr>\n",
       "      <th>2020-03-08</th>\n",
       "      <td>-2.534443</td>\n",
       "      <td>-2.257075</td>\n",
       "      <td>-3.030723</td>\n",
       "      <td>-2.192027</td>\n",
       "    </tr>\n",
       "    <tr>\n",
       "      <th>2020-03-09</th>\n",
       "      <td>-2.799733</td>\n",
       "      <td>-3.025610</td>\n",
       "      <td>-2.679174</td>\n",
       "      <td>-0.971397</td>\n",
       "    </tr>\n",
       "    <tr>\n",
       "      <th>2020-03-10</th>\n",
       "      <td>-2.899516</td>\n",
       "      <td>-3.666735</td>\n",
       "      <td>-1.797344</td>\n",
       "      <td>-0.512004</td>\n",
       "    </tr>\n",
       "  </tbody>\n",
       "</table>\n",
       "</div>"
      ],
      "text/plain": [
       "                   A         B         C         D\n",
       "2020-03-01 -0.435913 -0.922196  0.336476 -0.529754\n",
       "2020-03-02 -0.074136 -0.702621  2.151544 -1.151510\n",
       "2020-03-03 -0.205297 -0.743931  0.648647 -0.835572\n",
       "2020-03-04 -0.589846 -1.161465 -0.248516 -2.690511\n",
       "2020-03-05 -1.470337 -1.118577 -2.167599 -4.350354\n",
       "2020-03-06 -0.850939 -3.108625 -0.992481 -4.605070\n",
       "2020-03-07 -1.779196 -3.229896 -1.745343 -3.006269\n",
       "2020-03-08 -2.534443 -2.257075 -3.030723 -2.192027\n",
       "2020-03-09 -2.799733 -3.025610 -2.679174 -0.971397\n",
       "2020-03-10 -2.899516 -3.666735 -1.797344 -0.512004"
      ]
     },
     "execution_count": 52,
     "metadata": {},
     "output_type": "execute_result"
    }
   ],
   "source": [
    "df.apply(np.cumsum)"
   ]
  },
  {
   "cell_type": "code",
   "execution_count": 54,
   "id": "1287a138",
   "metadata": {},
   "outputs": [
    {
     "data": {
      "text/plain": [
       "A    1.547654\n",
       "B    2.962869\n",
       "C    3.734151\n",
       "D    3.453739\n",
       "dtype: float64"
      ]
     },
     "execution_count": 54,
     "metadata": {},
     "output_type": "execute_result"
    }
   ],
   "source": [
    "df.apply(lambda x:x.max()-x.min())"
   ]
  },
  {
   "cell_type": "code",
   "execution_count": 55,
   "id": "ebd07e98",
   "metadata": {},
   "outputs": [
    {
     "data": {
      "text/plain": [
       "3.0    1\n",
       "7.0    1\n",
       "6.0    1\n",
       "4.0    1\n",
       "8.0    1\n",
       "2.0    1\n",
       "9.0    1\n",
       "5.0    1\n",
       "1.0    1\n",
       "dtype: int64"
      ]
     },
     "execution_count": 55,
     "metadata": {},
     "output_type": "execute_result"
    }
   ],
   "source": [
    "s.value_counts()"
   ]
  },
  {
   "cell_type": "code",
   "execution_count": 56,
   "id": "ede6fa5e",
   "metadata": {},
   "outputs": [],
   "source": [
    "s=pd.Series(['Edureka','python','jupyter',np.nan,'football','world'])"
   ]
  },
  {
   "cell_type": "code",
   "execution_count": 58,
   "id": "41cb5bc9",
   "metadata": {},
   "outputs": [
    {
     "data": {
      "text/plain": [
       "0     EDUREKA\n",
       "1      PYTHON\n",
       "2     JUPYTER\n",
       "3         NaN\n",
       "4    FOOTBALL\n",
       "5       WORLD\n",
       "dtype: object"
      ]
     },
     "execution_count": 58,
     "metadata": {},
     "output_type": "execute_result"
    }
   ],
   "source": [
    "s.str.upper()\n"
   ]
  },
  {
   "cell_type": "code",
   "execution_count": 59,
   "id": "20f44d62",
   "metadata": {},
   "outputs": [],
   "source": [
    "df=pd.DataFrame(np.random.randn(10,4))"
   ]
  },
  {
   "cell_type": "code",
   "execution_count": 60,
   "id": "d14841b6",
   "metadata": {},
   "outputs": [
    {
     "data": {
      "text/html": [
       "<div>\n",
       "<style scoped>\n",
       "    .dataframe tbody tr th:only-of-type {\n",
       "        vertical-align: middle;\n",
       "    }\n",
       "\n",
       "    .dataframe tbody tr th {\n",
       "        vertical-align: top;\n",
       "    }\n",
       "\n",
       "    .dataframe thead th {\n",
       "        text-align: right;\n",
       "    }\n",
       "</style>\n",
       "<table border=\"1\" class=\"dataframe\">\n",
       "  <thead>\n",
       "    <tr style=\"text-align: right;\">\n",
       "      <th></th>\n",
       "      <th>0</th>\n",
       "      <th>1</th>\n",
       "      <th>2</th>\n",
       "      <th>3</th>\n",
       "    </tr>\n",
       "  </thead>\n",
       "  <tbody>\n",
       "    <tr>\n",
       "      <th>0</th>\n",
       "      <td>-1.427740</td>\n",
       "      <td>0.538800</td>\n",
       "      <td>-0.093036</td>\n",
       "      <td>0.107581</td>\n",
       "    </tr>\n",
       "    <tr>\n",
       "      <th>1</th>\n",
       "      <td>-0.050647</td>\n",
       "      <td>0.826633</td>\n",
       "      <td>0.359222</td>\n",
       "      <td>-0.601859</td>\n",
       "    </tr>\n",
       "    <tr>\n",
       "      <th>2</th>\n",
       "      <td>0.630398</td>\n",
       "      <td>-1.101558</td>\n",
       "      <td>1.411345</td>\n",
       "      <td>1.626903</td>\n",
       "    </tr>\n",
       "    <tr>\n",
       "      <th>3</th>\n",
       "      <td>0.096735</td>\n",
       "      <td>-1.836658</td>\n",
       "      <td>-0.020620</td>\n",
       "      <td>-0.513943</td>\n",
       "    </tr>\n",
       "    <tr>\n",
       "      <th>4</th>\n",
       "      <td>-2.058048</td>\n",
       "      <td>-2.449458</td>\n",
       "      <td>-1.619784</td>\n",
       "      <td>-0.290306</td>\n",
       "    </tr>\n",
       "    <tr>\n",
       "      <th>5</th>\n",
       "      <td>0.050426</td>\n",
       "      <td>-0.500305</td>\n",
       "      <td>0.336857</td>\n",
       "      <td>1.096396</td>\n",
       "    </tr>\n",
       "    <tr>\n",
       "      <th>6</th>\n",
       "      <td>-0.231123</td>\n",
       "      <td>0.622856</td>\n",
       "      <td>0.743056</td>\n",
       "      <td>-0.062048</td>\n",
       "    </tr>\n",
       "    <tr>\n",
       "      <th>7</th>\n",
       "      <td>-0.917900</td>\n",
       "      <td>0.424695</td>\n",
       "      <td>-0.786777</td>\n",
       "      <td>0.618975</td>\n",
       "    </tr>\n",
       "    <tr>\n",
       "      <th>8</th>\n",
       "      <td>0.381870</td>\n",
       "      <td>0.725622</td>\n",
       "      <td>0.089297</td>\n",
       "      <td>0.665568</td>\n",
       "    </tr>\n",
       "    <tr>\n",
       "      <th>9</th>\n",
       "      <td>1.514447</td>\n",
       "      <td>-1.051228</td>\n",
       "      <td>1.537326</td>\n",
       "      <td>0.361175</td>\n",
       "    </tr>\n",
       "  </tbody>\n",
       "</table>\n",
       "</div>"
      ],
      "text/plain": [
       "          0         1         2         3\n",
       "0 -1.427740  0.538800 -0.093036  0.107581\n",
       "1 -0.050647  0.826633  0.359222 -0.601859\n",
       "2  0.630398 -1.101558  1.411345  1.626903\n",
       "3  0.096735 -1.836658 -0.020620 -0.513943\n",
       "4 -2.058048 -2.449458 -1.619784 -0.290306\n",
       "5  0.050426 -0.500305  0.336857  1.096396\n",
       "6 -0.231123  0.622856  0.743056 -0.062048\n",
       "7 -0.917900  0.424695 -0.786777  0.618975\n",
       "8  0.381870  0.725622  0.089297  0.665568\n",
       "9  1.514447 -1.051228  1.537326  0.361175"
      ]
     },
     "execution_count": 60,
     "metadata": {},
     "output_type": "execute_result"
    }
   ],
   "source": [
    "df\n"
   ]
  },
  {
   "cell_type": "code",
   "execution_count": 62,
   "id": "67a2309b",
   "metadata": {},
   "outputs": [],
   "source": [
    "df2=[df[:3],df[3:7],df[7:]]"
   ]
  },
  {
   "cell_type": "code",
   "execution_count": 63,
   "id": "15e7a802",
   "metadata": {},
   "outputs": [
    {
     "data": {
      "text/plain": [
       "[          0         1         2         3\n",
       " 0 -1.427740  0.538800 -0.093036  0.107581\n",
       " 1 -0.050647  0.826633  0.359222 -0.601859\n",
       " 2  0.630398 -1.101558  1.411345  1.626903,\n",
       "           0         1         2         3\n",
       " 3  0.096735 -1.836658 -0.020620 -0.513943\n",
       " 4 -2.058048 -2.449458 -1.619784 -0.290306\n",
       " 5  0.050426 -0.500305  0.336857  1.096396\n",
       " 6 -0.231123  0.622856  0.743056 -0.062048,\n",
       "           0         1         2         3\n",
       " 7 -0.917900  0.424695 -0.786777  0.618975\n",
       " 8  0.381870  0.725622  0.089297  0.665568\n",
       " 9  1.514447 -1.051228  1.537326  0.361175]"
      ]
     },
     "execution_count": 63,
     "metadata": {},
     "output_type": "execute_result"
    }
   ],
   "source": [
    "df2"
   ]
  },
  {
   "cell_type": "code",
   "execution_count": 64,
   "id": "12d9bfc4",
   "metadata": {},
   "outputs": [
    {
     "data": {
      "text/html": [
       "<div>\n",
       "<style scoped>\n",
       "    .dataframe tbody tr th:only-of-type {\n",
       "        vertical-align: middle;\n",
       "    }\n",
       "\n",
       "    .dataframe tbody tr th {\n",
       "        vertical-align: top;\n",
       "    }\n",
       "\n",
       "    .dataframe thead th {\n",
       "        text-align: right;\n",
       "    }\n",
       "</style>\n",
       "<table border=\"1\" class=\"dataframe\">\n",
       "  <thead>\n",
       "    <tr style=\"text-align: right;\">\n",
       "      <th></th>\n",
       "      <th>0</th>\n",
       "      <th>1</th>\n",
       "      <th>2</th>\n",
       "      <th>3</th>\n",
       "    </tr>\n",
       "  </thead>\n",
       "  <tbody>\n",
       "    <tr>\n",
       "      <th>0</th>\n",
       "      <td>-1.427740</td>\n",
       "      <td>0.538800</td>\n",
       "      <td>-0.093036</td>\n",
       "      <td>0.107581</td>\n",
       "    </tr>\n",
       "    <tr>\n",
       "      <th>1</th>\n",
       "      <td>-0.050647</td>\n",
       "      <td>0.826633</td>\n",
       "      <td>0.359222</td>\n",
       "      <td>-0.601859</td>\n",
       "    </tr>\n",
       "    <tr>\n",
       "      <th>2</th>\n",
       "      <td>0.630398</td>\n",
       "      <td>-1.101558</td>\n",
       "      <td>1.411345</td>\n",
       "      <td>1.626903</td>\n",
       "    </tr>\n",
       "    <tr>\n",
       "      <th>3</th>\n",
       "      <td>0.096735</td>\n",
       "      <td>-1.836658</td>\n",
       "      <td>-0.020620</td>\n",
       "      <td>-0.513943</td>\n",
       "    </tr>\n",
       "    <tr>\n",
       "      <th>4</th>\n",
       "      <td>-2.058048</td>\n",
       "      <td>-2.449458</td>\n",
       "      <td>-1.619784</td>\n",
       "      <td>-0.290306</td>\n",
       "    </tr>\n",
       "    <tr>\n",
       "      <th>5</th>\n",
       "      <td>0.050426</td>\n",
       "      <td>-0.500305</td>\n",
       "      <td>0.336857</td>\n",
       "      <td>1.096396</td>\n",
       "    </tr>\n",
       "    <tr>\n",
       "      <th>6</th>\n",
       "      <td>-0.231123</td>\n",
       "      <td>0.622856</td>\n",
       "      <td>0.743056</td>\n",
       "      <td>-0.062048</td>\n",
       "    </tr>\n",
       "    <tr>\n",
       "      <th>7</th>\n",
       "      <td>-0.917900</td>\n",
       "      <td>0.424695</td>\n",
       "      <td>-0.786777</td>\n",
       "      <td>0.618975</td>\n",
       "    </tr>\n",
       "    <tr>\n",
       "      <th>8</th>\n",
       "      <td>0.381870</td>\n",
       "      <td>0.725622</td>\n",
       "      <td>0.089297</td>\n",
       "      <td>0.665568</td>\n",
       "    </tr>\n",
       "    <tr>\n",
       "      <th>9</th>\n",
       "      <td>1.514447</td>\n",
       "      <td>-1.051228</td>\n",
       "      <td>1.537326</td>\n",
       "      <td>0.361175</td>\n",
       "    </tr>\n",
       "  </tbody>\n",
       "</table>\n",
       "</div>"
      ],
      "text/plain": [
       "          0         1         2         3\n",
       "0 -1.427740  0.538800 -0.093036  0.107581\n",
       "1 -0.050647  0.826633  0.359222 -0.601859\n",
       "2  0.630398 -1.101558  1.411345  1.626903\n",
       "3  0.096735 -1.836658 -0.020620 -0.513943\n",
       "4 -2.058048 -2.449458 -1.619784 -0.290306\n",
       "5  0.050426 -0.500305  0.336857  1.096396\n",
       "6 -0.231123  0.622856  0.743056 -0.062048\n",
       "7 -0.917900  0.424695 -0.786777  0.618975\n",
       "8  0.381870  0.725622  0.089297  0.665568\n",
       "9  1.514447 -1.051228  1.537326  0.361175"
      ]
     },
     "execution_count": 64,
     "metadata": {},
     "output_type": "execute_result"
    }
   ],
   "source": [
    "pd.concat(df2)"
   ]
  },
  {
   "cell_type": "code",
   "execution_count": 65,
   "id": "63b55d01",
   "metadata": {},
   "outputs": [],
   "source": [
    "left=pd.DataFrame({'A':[1,2],'B':[3,4]})"
   ]
  },
  {
   "cell_type": "code",
   "execution_count": 66,
   "id": "24e3a44a",
   "metadata": {},
   "outputs": [],
   "source": [
    "right=pd.DataFrame({'A':[3,2],'D':[4,5]})"
   ]
  },
  {
   "cell_type": "code",
   "execution_count": 67,
   "id": "4bf20b4f",
   "metadata": {},
   "outputs": [
    {
     "data": {
      "text/html": [
       "<div>\n",
       "<style scoped>\n",
       "    .dataframe tbody tr th:only-of-type {\n",
       "        vertical-align: middle;\n",
       "    }\n",
       "\n",
       "    .dataframe tbody tr th {\n",
       "        vertical-align: top;\n",
       "    }\n",
       "\n",
       "    .dataframe thead th {\n",
       "        text-align: right;\n",
       "    }\n",
       "</style>\n",
       "<table border=\"1\" class=\"dataframe\">\n",
       "  <thead>\n",
       "    <tr style=\"text-align: right;\">\n",
       "      <th></th>\n",
       "      <th>A</th>\n",
       "      <th>B</th>\n",
       "    </tr>\n",
       "  </thead>\n",
       "  <tbody>\n",
       "    <tr>\n",
       "      <th>0</th>\n",
       "      <td>1</td>\n",
       "      <td>3</td>\n",
       "    </tr>\n",
       "    <tr>\n",
       "      <th>1</th>\n",
       "      <td>2</td>\n",
       "      <td>4</td>\n",
       "    </tr>\n",
       "  </tbody>\n",
       "</table>\n",
       "</div>"
      ],
      "text/plain": [
       "   A  B\n",
       "0  1  3\n",
       "1  2  4"
      ]
     },
     "execution_count": 67,
     "metadata": {},
     "output_type": "execute_result"
    }
   ],
   "source": [
    "left"
   ]
  },
  {
   "cell_type": "code",
   "execution_count": 68,
   "id": "869461e5",
   "metadata": {},
   "outputs": [
    {
     "data": {
      "text/html": [
       "<div>\n",
       "<style scoped>\n",
       "    .dataframe tbody tr th:only-of-type {\n",
       "        vertical-align: middle;\n",
       "    }\n",
       "\n",
       "    .dataframe tbody tr th {\n",
       "        vertical-align: top;\n",
       "    }\n",
       "\n",
       "    .dataframe thead th {\n",
       "        text-align: right;\n",
       "    }\n",
       "</style>\n",
       "<table border=\"1\" class=\"dataframe\">\n",
       "  <thead>\n",
       "    <tr style=\"text-align: right;\">\n",
       "      <th></th>\n",
       "      <th>A</th>\n",
       "      <th>D</th>\n",
       "    </tr>\n",
       "  </thead>\n",
       "  <tbody>\n",
       "    <tr>\n",
       "      <th>0</th>\n",
       "      <td>3</td>\n",
       "      <td>4</td>\n",
       "    </tr>\n",
       "    <tr>\n",
       "      <th>1</th>\n",
       "      <td>2</td>\n",
       "      <td>5</td>\n",
       "    </tr>\n",
       "  </tbody>\n",
       "</table>\n",
       "</div>"
      ],
      "text/plain": [
       "   A  D\n",
       "0  3  4\n",
       "1  2  5"
      ]
     },
     "execution_count": 68,
     "metadata": {},
     "output_type": "execute_result"
    }
   ],
   "source": [
    "right"
   ]
  },
  {
   "cell_type": "code",
   "execution_count": 69,
   "id": "460ee02d",
   "metadata": {},
   "outputs": [
    {
     "data": {
      "text/html": [
       "<div>\n",
       "<style scoped>\n",
       "    .dataframe tbody tr th:only-of-type {\n",
       "        vertical-align: middle;\n",
       "    }\n",
       "\n",
       "    .dataframe tbody tr th {\n",
       "        vertical-align: top;\n",
       "    }\n",
       "\n",
       "    .dataframe thead th {\n",
       "        text-align: right;\n",
       "    }\n",
       "</style>\n",
       "<table border=\"1\" class=\"dataframe\">\n",
       "  <thead>\n",
       "    <tr style=\"text-align: right;\">\n",
       "      <th></th>\n",
       "      <th>A</th>\n",
       "      <th>B</th>\n",
       "      <th>D</th>\n",
       "    </tr>\n",
       "  </thead>\n",
       "  <tbody>\n",
       "    <tr>\n",
       "      <th>0</th>\n",
       "      <td>2</td>\n",
       "      <td>4</td>\n",
       "      <td>5</td>\n",
       "    </tr>\n",
       "  </tbody>\n",
       "</table>\n",
       "</div>"
      ],
      "text/plain": [
       "   A  B  D\n",
       "0  2  4  5"
      ]
     },
     "execution_count": 69,
     "metadata": {},
     "output_type": "execute_result"
    }
   ],
   "source": [
    "pd.merge(left,right,on='A')"
   ]
  },
  {
   "cell_type": "code",
   "execution_count": 70,
   "id": "a8d6b8ca",
   "metadata": {},
   "outputs": [
    {
     "data": {
      "text/html": [
       "<div>\n",
       "<style scoped>\n",
       "    .dataframe tbody tr th:only-of-type {\n",
       "        vertical-align: middle;\n",
       "    }\n",
       "\n",
       "    .dataframe tbody tr th {\n",
       "        vertical-align: top;\n",
       "    }\n",
       "\n",
       "    .dataframe thead th {\n",
       "        text-align: right;\n",
       "    }\n",
       "</style>\n",
       "<table border=\"1\" class=\"dataframe\">\n",
       "  <thead>\n",
       "    <tr style=\"text-align: right;\">\n",
       "      <th></th>\n",
       "      <th>0</th>\n",
       "      <th>1</th>\n",
       "      <th>3</th>\n",
       "    </tr>\n",
       "    <tr>\n",
       "      <th>2</th>\n",
       "      <th></th>\n",
       "      <th></th>\n",
       "      <th></th>\n",
       "    </tr>\n",
       "  </thead>\n",
       "  <tbody>\n",
       "    <tr>\n",
       "      <th>-1.619784</th>\n",
       "      <td>-2.058048</td>\n",
       "      <td>-2.449458</td>\n",
       "      <td>-0.290306</td>\n",
       "    </tr>\n",
       "    <tr>\n",
       "      <th>-0.786777</th>\n",
       "      <td>-0.917900</td>\n",
       "      <td>0.424695</td>\n",
       "      <td>0.618975</td>\n",
       "    </tr>\n",
       "    <tr>\n",
       "      <th>-0.093036</th>\n",
       "      <td>-1.427740</td>\n",
       "      <td>0.538800</td>\n",
       "      <td>0.107581</td>\n",
       "    </tr>\n",
       "    <tr>\n",
       "      <th>-0.020620</th>\n",
       "      <td>0.096735</td>\n",
       "      <td>-1.836658</td>\n",
       "      <td>-0.513943</td>\n",
       "    </tr>\n",
       "    <tr>\n",
       "      <th>0.089297</th>\n",
       "      <td>0.381870</td>\n",
       "      <td>0.725622</td>\n",
       "      <td>0.665568</td>\n",
       "    </tr>\n",
       "    <tr>\n",
       "      <th>0.336857</th>\n",
       "      <td>0.050426</td>\n",
       "      <td>-0.500305</td>\n",
       "      <td>1.096396</td>\n",
       "    </tr>\n",
       "    <tr>\n",
       "      <th>0.359222</th>\n",
       "      <td>-0.050647</td>\n",
       "      <td>0.826633</td>\n",
       "      <td>-0.601859</td>\n",
       "    </tr>\n",
       "    <tr>\n",
       "      <th>0.743056</th>\n",
       "      <td>-0.231123</td>\n",
       "      <td>0.622856</td>\n",
       "      <td>-0.062048</td>\n",
       "    </tr>\n",
       "    <tr>\n",
       "      <th>1.411345</th>\n",
       "      <td>0.630398</td>\n",
       "      <td>-1.101558</td>\n",
       "      <td>1.626903</td>\n",
       "    </tr>\n",
       "    <tr>\n",
       "      <th>1.537326</th>\n",
       "      <td>1.514447</td>\n",
       "      <td>-1.051228</td>\n",
       "      <td>0.361175</td>\n",
       "    </tr>\n",
       "  </tbody>\n",
       "</table>\n",
       "</div>"
      ],
      "text/plain": [
       "                  0         1         3\n",
       "2                                      \n",
       "-1.619784 -2.058048 -2.449458 -0.290306\n",
       "-0.786777 -0.917900  0.424695  0.618975\n",
       "-0.093036 -1.427740  0.538800  0.107581\n",
       "-0.020620  0.096735 -1.836658 -0.513943\n",
       " 0.089297  0.381870  0.725622  0.665568\n",
       " 0.336857  0.050426 -0.500305  1.096396\n",
       " 0.359222 -0.050647  0.826633 -0.601859\n",
       " 0.743056 -0.231123  0.622856 -0.062048\n",
       " 1.411345  0.630398 -1.101558  1.626903\n",
       " 1.537326  1.514447 -1.051228  0.361175"
      ]
     },
     "execution_count": 70,
     "metadata": {},
     "output_type": "execute_result"
    }
   ],
   "source": [
    "df.groupby(2).sum()"
   ]
  },
  {
   "cell_type": "code",
   "execution_count": 71,
   "id": "91cdc883",
   "metadata": {},
   "outputs": [
    {
     "data": {
      "text/html": [
       "<div>\n",
       "<style scoped>\n",
       "    .dataframe tbody tr th:only-of-type {\n",
       "        vertical-align: middle;\n",
       "    }\n",
       "\n",
       "    .dataframe tbody tr th {\n",
       "        vertical-align: top;\n",
       "    }\n",
       "\n",
       "    .dataframe thead th {\n",
       "        text-align: right;\n",
       "    }\n",
       "</style>\n",
       "<table border=\"1\" class=\"dataframe\">\n",
       "  <thead>\n",
       "    <tr style=\"text-align: right;\">\n",
       "      <th></th>\n",
       "      <th></th>\n",
       "      <th>0</th>\n",
       "      <th>1</th>\n",
       "    </tr>\n",
       "    <tr>\n",
       "      <th>2</th>\n",
       "      <th>3</th>\n",
       "      <th></th>\n",
       "      <th></th>\n",
       "    </tr>\n",
       "  </thead>\n",
       "  <tbody>\n",
       "    <tr>\n",
       "      <th>-1.619784</th>\n",
       "      <th>-0.290306</th>\n",
       "      <td>-2.058048</td>\n",
       "      <td>-2.449458</td>\n",
       "    </tr>\n",
       "    <tr>\n",
       "      <th>-0.786777</th>\n",
       "      <th>0.618975</th>\n",
       "      <td>-0.917900</td>\n",
       "      <td>0.424695</td>\n",
       "    </tr>\n",
       "    <tr>\n",
       "      <th>-0.093036</th>\n",
       "      <th>0.107581</th>\n",
       "      <td>-1.427740</td>\n",
       "      <td>0.538800</td>\n",
       "    </tr>\n",
       "    <tr>\n",
       "      <th>-0.020620</th>\n",
       "      <th>-0.513943</th>\n",
       "      <td>0.096735</td>\n",
       "      <td>-1.836658</td>\n",
       "    </tr>\n",
       "    <tr>\n",
       "      <th>0.089297</th>\n",
       "      <th>0.665568</th>\n",
       "      <td>0.381870</td>\n",
       "      <td>0.725622</td>\n",
       "    </tr>\n",
       "    <tr>\n",
       "      <th>0.336857</th>\n",
       "      <th>1.096396</th>\n",
       "      <td>0.050426</td>\n",
       "      <td>-0.500305</td>\n",
       "    </tr>\n",
       "    <tr>\n",
       "      <th>0.359222</th>\n",
       "      <th>-0.601859</th>\n",
       "      <td>-0.050647</td>\n",
       "      <td>0.826633</td>\n",
       "    </tr>\n",
       "    <tr>\n",
       "      <th>0.743056</th>\n",
       "      <th>-0.062048</th>\n",
       "      <td>-0.231123</td>\n",
       "      <td>0.622856</td>\n",
       "    </tr>\n",
       "    <tr>\n",
       "      <th>1.411345</th>\n",
       "      <th>1.626903</th>\n",
       "      <td>0.630398</td>\n",
       "      <td>-1.101558</td>\n",
       "    </tr>\n",
       "    <tr>\n",
       "      <th>1.537326</th>\n",
       "      <th>0.361175</th>\n",
       "      <td>1.514447</td>\n",
       "      <td>-1.051228</td>\n",
       "    </tr>\n",
       "  </tbody>\n",
       "</table>\n",
       "</div>"
      ],
      "text/plain": [
       "                            0         1\n",
       "2         3                            \n",
       "-1.619784 -0.290306 -2.058048 -2.449458\n",
       "-0.786777  0.618975 -0.917900  0.424695\n",
       "-0.093036  0.107581 -1.427740  0.538800\n",
       "-0.020620 -0.513943  0.096735 -1.836658\n",
       " 0.089297  0.665568  0.381870  0.725622\n",
       " 0.336857  1.096396  0.050426 -0.500305\n",
       " 0.359222 -0.601859 -0.050647  0.826633\n",
       " 0.743056 -0.062048 -0.231123  0.622856\n",
       " 1.411345  1.626903  0.630398 -1.101558\n",
       " 1.537326  0.361175  1.514447 -1.051228"
      ]
     },
     "execution_count": 71,
     "metadata": {},
     "output_type": "execute_result"
    }
   ],
   "source": [
    "df.groupby([2,3]).sum()"
   ]
  },
  {
   "cell_type": "code",
   "execution_count": 72,
   "id": "6b6a28df",
   "metadata": {},
   "outputs": [],
   "source": [
    "my_tuple=list(zip(*[[1,2,3,4,5,7,8,9],[11,12,13,6,7,8,9,10]]))"
   ]
  },
  {
   "cell_type": "code",
   "execution_count": 73,
   "id": "cb119f10",
   "metadata": {},
   "outputs": [],
   "source": [
    "index=pd.MultiIndex.from_tuples(my_tuple,names=['First','Second'])"
   ]
  },
  {
   "cell_type": "code",
   "execution_count": 74,
   "id": "39679231",
   "metadata": {},
   "outputs": [],
   "source": [
    "df=pd.DataFrame(np.random.randn(8,2),index=index,columns=['A','B'])"
   ]
  },
  {
   "cell_type": "code",
   "execution_count": 75,
   "id": "294780d1",
   "metadata": {},
   "outputs": [],
   "source": [
    "df2=df[:4]"
   ]
  },
  {
   "cell_type": "code",
   "execution_count": 76,
   "id": "8928ee14",
   "metadata": {},
   "outputs": [
    {
     "data": {
      "text/html": [
       "<div>\n",
       "<style scoped>\n",
       "    .dataframe tbody tr th:only-of-type {\n",
       "        vertical-align: middle;\n",
       "    }\n",
       "\n",
       "    .dataframe tbody tr th {\n",
       "        vertical-align: top;\n",
       "    }\n",
       "\n",
       "    .dataframe thead th {\n",
       "        text-align: right;\n",
       "    }\n",
       "</style>\n",
       "<table border=\"1\" class=\"dataframe\">\n",
       "  <thead>\n",
       "    <tr style=\"text-align: right;\">\n",
       "      <th></th>\n",
       "      <th></th>\n",
       "      <th>A</th>\n",
       "      <th>B</th>\n",
       "    </tr>\n",
       "    <tr>\n",
       "      <th>First</th>\n",
       "      <th>Second</th>\n",
       "      <th></th>\n",
       "      <th></th>\n",
       "    </tr>\n",
       "  </thead>\n",
       "  <tbody>\n",
       "    <tr>\n",
       "      <th>1</th>\n",
       "      <th>11</th>\n",
       "      <td>0.657328</td>\n",
       "      <td>0.290770</td>\n",
       "    </tr>\n",
       "    <tr>\n",
       "      <th>2</th>\n",
       "      <th>12</th>\n",
       "      <td>-0.319085</td>\n",
       "      <td>-1.001010</td>\n",
       "    </tr>\n",
       "    <tr>\n",
       "      <th>3</th>\n",
       "      <th>13</th>\n",
       "      <td>2.280300</td>\n",
       "      <td>1.214343</td>\n",
       "    </tr>\n",
       "    <tr>\n",
       "      <th>4</th>\n",
       "      <th>6</th>\n",
       "      <td>1.079941</td>\n",
       "      <td>-0.810723</td>\n",
       "    </tr>\n",
       "  </tbody>\n",
       "</table>\n",
       "</div>"
      ],
      "text/plain": [
       "                     A         B\n",
       "First Second                    \n",
       "1     11      0.657328  0.290770\n",
       "2     12     -0.319085 -1.001010\n",
       "3     13      2.280300  1.214343\n",
       "4     6       1.079941 -0.810723"
      ]
     },
     "execution_count": 76,
     "metadata": {},
     "output_type": "execute_result"
    }
   ],
   "source": [
    "df2"
   ]
  },
  {
   "cell_type": "code",
   "execution_count": 77,
   "id": "f90e5293",
   "metadata": {},
   "outputs": [
    {
     "data": {
      "text/plain": [
       "First  Second   \n",
       "1      11      A    0.657328\n",
       "               B    0.290770\n",
       "2      12      A   -0.319085\n",
       "               B   -1.001010\n",
       "3      13      A    2.280300\n",
       "               B    1.214343\n",
       "4      6       A    1.079941\n",
       "               B   -0.810723\n",
       "dtype: float64"
      ]
     },
     "execution_count": 77,
     "metadata": {},
     "output_type": "execute_result"
    }
   ],
   "source": [
    "df2.stack()"
   ]
  },
  {
   "cell_type": "code",
   "execution_count": 78,
   "id": "efd00acc",
   "metadata": {},
   "outputs": [
    {
     "data": {
      "text/html": [
       "<div>\n",
       "<style scoped>\n",
       "    .dataframe tbody tr th:only-of-type {\n",
       "        vertical-align: middle;\n",
       "    }\n",
       "\n",
       "    .dataframe tbody tr th {\n",
       "        vertical-align: top;\n",
       "    }\n",
       "\n",
       "    .dataframe thead tr th {\n",
       "        text-align: left;\n",
       "    }\n",
       "\n",
       "    .dataframe thead tr:last-of-type th {\n",
       "        text-align: right;\n",
       "    }\n",
       "</style>\n",
       "<table border=\"1\" class=\"dataframe\">\n",
       "  <thead>\n",
       "    <tr>\n",
       "      <th></th>\n",
       "      <th colspan=\"4\" halign=\"left\">A</th>\n",
       "      <th colspan=\"4\" halign=\"left\">B</th>\n",
       "    </tr>\n",
       "    <tr>\n",
       "      <th>Second</th>\n",
       "      <th>11</th>\n",
       "      <th>12</th>\n",
       "      <th>13</th>\n",
       "      <th>6</th>\n",
       "      <th>11</th>\n",
       "      <th>12</th>\n",
       "      <th>13</th>\n",
       "      <th>6</th>\n",
       "    </tr>\n",
       "    <tr>\n",
       "      <th>First</th>\n",
       "      <th></th>\n",
       "      <th></th>\n",
       "      <th></th>\n",
       "      <th></th>\n",
       "      <th></th>\n",
       "      <th></th>\n",
       "      <th></th>\n",
       "      <th></th>\n",
       "    </tr>\n",
       "  </thead>\n",
       "  <tbody>\n",
       "    <tr>\n",
       "      <th>1</th>\n",
       "      <td>0.657328</td>\n",
       "      <td>NaN</td>\n",
       "      <td>NaN</td>\n",
       "      <td>NaN</td>\n",
       "      <td>0.29077</td>\n",
       "      <td>NaN</td>\n",
       "      <td>NaN</td>\n",
       "      <td>NaN</td>\n",
       "    </tr>\n",
       "    <tr>\n",
       "      <th>2</th>\n",
       "      <td>NaN</td>\n",
       "      <td>-0.319085</td>\n",
       "      <td>NaN</td>\n",
       "      <td>NaN</td>\n",
       "      <td>NaN</td>\n",
       "      <td>-1.00101</td>\n",
       "      <td>NaN</td>\n",
       "      <td>NaN</td>\n",
       "    </tr>\n",
       "    <tr>\n",
       "      <th>3</th>\n",
       "      <td>NaN</td>\n",
       "      <td>NaN</td>\n",
       "      <td>2.2803</td>\n",
       "      <td>NaN</td>\n",
       "      <td>NaN</td>\n",
       "      <td>NaN</td>\n",
       "      <td>1.214343</td>\n",
       "      <td>NaN</td>\n",
       "    </tr>\n",
       "    <tr>\n",
       "      <th>4</th>\n",
       "      <td>NaN</td>\n",
       "      <td>NaN</td>\n",
       "      <td>NaN</td>\n",
       "      <td>1.079941</td>\n",
       "      <td>NaN</td>\n",
       "      <td>NaN</td>\n",
       "      <td>NaN</td>\n",
       "      <td>-0.810723</td>\n",
       "    </tr>\n",
       "  </tbody>\n",
       "</table>\n",
       "</div>"
      ],
      "text/plain": [
       "               A                                    B                     \\\n",
       "Second        11        12      13        6        11       12        13   \n",
       "First                                                                      \n",
       "1       0.657328       NaN     NaN       NaN  0.29077      NaN       NaN   \n",
       "2            NaN -0.319085     NaN       NaN      NaN -1.00101       NaN   \n",
       "3            NaN       NaN  2.2803       NaN      NaN      NaN  1.214343   \n",
       "4            NaN       NaN     NaN  1.079941      NaN      NaN       NaN   \n",
       "\n",
       "                  \n",
       "Second        6   \n",
       "First             \n",
       "1            NaN  \n",
       "2            NaN  \n",
       "3            NaN  \n",
       "4      -0.810723  "
      ]
     },
     "execution_count": 78,
     "metadata": {},
     "output_type": "execute_result"
    }
   ],
   "source": [
    "df2.unstack()"
   ]
  },
  {
   "cell_type": "code",
   "execution_count": 79,
   "id": "3f11ddd2",
   "metadata": {},
   "outputs": [],
   "source": [
    "df=pd.DataFrame({'A': ['a','b','c','d']*3,\n",
    "                  'B':['A','B','C']*4,\n",
    "                  'C':['P','P','P','Q','Q','Q']*2,\n",
    "                  'D': np.random.randn(12),\n",
    "                  'E':np.random.randn(12)})"
   ]
  },
  {
   "cell_type": "code",
   "execution_count": 80,
   "id": "c4308f3c",
   "metadata": {},
   "outputs": [
    {
     "data": {
      "text/html": [
       "<div>\n",
       "<style scoped>\n",
       "    .dataframe tbody tr th:only-of-type {\n",
       "        vertical-align: middle;\n",
       "    }\n",
       "\n",
       "    .dataframe tbody tr th {\n",
       "        vertical-align: top;\n",
       "    }\n",
       "\n",
       "    .dataframe thead th {\n",
       "        text-align: right;\n",
       "    }\n",
       "</style>\n",
       "<table border=\"1\" class=\"dataframe\">\n",
       "  <thead>\n",
       "    <tr style=\"text-align: right;\">\n",
       "      <th></th>\n",
       "      <th>C</th>\n",
       "      <th>P</th>\n",
       "      <th>Q</th>\n",
       "    </tr>\n",
       "    <tr>\n",
       "      <th>A</th>\n",
       "      <th>B</th>\n",
       "      <th></th>\n",
       "      <th></th>\n",
       "    </tr>\n",
       "  </thead>\n",
       "  <tbody>\n",
       "    <tr>\n",
       "      <th rowspan=\"3\" valign=\"top\">a</th>\n",
       "      <th>A</th>\n",
       "      <td>0.463256</td>\n",
       "      <td>NaN</td>\n",
       "    </tr>\n",
       "    <tr>\n",
       "      <th>B</th>\n",
       "      <td>NaN</td>\n",
       "      <td>-1.052798</td>\n",
       "    </tr>\n",
       "    <tr>\n",
       "      <th>C</th>\n",
       "      <td>0.288526</td>\n",
       "      <td>NaN</td>\n",
       "    </tr>\n",
       "    <tr>\n",
       "      <th rowspan=\"3\" valign=\"top\">b</th>\n",
       "      <th>A</th>\n",
       "      <td>NaN</td>\n",
       "      <td>0.003454</td>\n",
       "    </tr>\n",
       "    <tr>\n",
       "      <th>B</th>\n",
       "      <td>-0.408741</td>\n",
       "      <td>NaN</td>\n",
       "    </tr>\n",
       "    <tr>\n",
       "      <th>C</th>\n",
       "      <td>NaN</td>\n",
       "      <td>-0.834443</td>\n",
       "    </tr>\n",
       "    <tr>\n",
       "      <th rowspan=\"3\" valign=\"top\">c</th>\n",
       "      <th>A</th>\n",
       "      <td>-2.633763</td>\n",
       "      <td>NaN</td>\n",
       "    </tr>\n",
       "    <tr>\n",
       "      <th>B</th>\n",
       "      <td>NaN</td>\n",
       "      <td>-3.134580</td>\n",
       "    </tr>\n",
       "    <tr>\n",
       "      <th>C</th>\n",
       "      <td>-1.120726</td>\n",
       "      <td>NaN</td>\n",
       "    </tr>\n",
       "    <tr>\n",
       "      <th rowspan=\"3\" valign=\"top\">d</th>\n",
       "      <th>A</th>\n",
       "      <td>NaN</td>\n",
       "      <td>1.058474</td>\n",
       "    </tr>\n",
       "    <tr>\n",
       "      <th>B</th>\n",
       "      <td>0.953366</td>\n",
       "      <td>NaN</td>\n",
       "    </tr>\n",
       "    <tr>\n",
       "      <th>C</th>\n",
       "      <td>NaN</td>\n",
       "      <td>0.155184</td>\n",
       "    </tr>\n",
       "  </tbody>\n",
       "</table>\n",
       "</div>"
      ],
      "text/plain": [
       "C           P         Q\n",
       "A B                    \n",
       "a A  0.463256       NaN\n",
       "  B       NaN -1.052798\n",
       "  C  0.288526       NaN\n",
       "b A       NaN  0.003454\n",
       "  B -0.408741       NaN\n",
       "  C       NaN -0.834443\n",
       "c A -2.633763       NaN\n",
       "  B       NaN -3.134580\n",
       "  C -1.120726       NaN\n",
       "d A       NaN  1.058474\n",
       "  B  0.953366       NaN\n",
       "  C       NaN  0.155184"
      ]
     },
     "execution_count": 80,
     "metadata": {},
     "output_type": "execute_result"
    }
   ],
   "source": [
    "pd.pivot_table(df,values='D',index=['A','B'],columns=['C'])"
   ]
  },
  {
   "cell_type": "code",
   "execution_count": 81,
   "id": "ea299d2c",
   "metadata": {},
   "outputs": [],
   "source": [
    "dates=pd.date_range('3/3/2020',periods=100,freq='S')"
   ]
  },
  {
   "cell_type": "code",
   "execution_count": 82,
   "id": "f608c723",
   "metadata": {},
   "outputs": [
    {
     "data": {
      "text/plain": [
       "DatetimeIndex(['2020-03-03 00:00:00', '2020-03-03 00:00:01',\n",
       "               '2020-03-03 00:00:02', '2020-03-03 00:00:03',\n",
       "               '2020-03-03 00:00:04', '2020-03-03 00:00:05',\n",
       "               '2020-03-03 00:00:06', '2020-03-03 00:00:07',\n",
       "               '2020-03-03 00:00:08', '2020-03-03 00:00:09',\n",
       "               '2020-03-03 00:00:10', '2020-03-03 00:00:11',\n",
       "               '2020-03-03 00:00:12', '2020-03-03 00:00:13',\n",
       "               '2020-03-03 00:00:14', '2020-03-03 00:00:15',\n",
       "               '2020-03-03 00:00:16', '2020-03-03 00:00:17',\n",
       "               '2020-03-03 00:00:18', '2020-03-03 00:00:19',\n",
       "               '2020-03-03 00:00:20', '2020-03-03 00:00:21',\n",
       "               '2020-03-03 00:00:22', '2020-03-03 00:00:23',\n",
       "               '2020-03-03 00:00:24', '2020-03-03 00:00:25',\n",
       "               '2020-03-03 00:00:26', '2020-03-03 00:00:27',\n",
       "               '2020-03-03 00:00:28', '2020-03-03 00:00:29',\n",
       "               '2020-03-03 00:00:30', '2020-03-03 00:00:31',\n",
       "               '2020-03-03 00:00:32', '2020-03-03 00:00:33',\n",
       "               '2020-03-03 00:00:34', '2020-03-03 00:00:35',\n",
       "               '2020-03-03 00:00:36', '2020-03-03 00:00:37',\n",
       "               '2020-03-03 00:00:38', '2020-03-03 00:00:39',\n",
       "               '2020-03-03 00:00:40', '2020-03-03 00:00:41',\n",
       "               '2020-03-03 00:00:42', '2020-03-03 00:00:43',\n",
       "               '2020-03-03 00:00:44', '2020-03-03 00:00:45',\n",
       "               '2020-03-03 00:00:46', '2020-03-03 00:00:47',\n",
       "               '2020-03-03 00:00:48', '2020-03-03 00:00:49',\n",
       "               '2020-03-03 00:00:50', '2020-03-03 00:00:51',\n",
       "               '2020-03-03 00:00:52', '2020-03-03 00:00:53',\n",
       "               '2020-03-03 00:00:54', '2020-03-03 00:00:55',\n",
       "               '2020-03-03 00:00:56', '2020-03-03 00:00:57',\n",
       "               '2020-03-03 00:00:58', '2020-03-03 00:00:59',\n",
       "               '2020-03-03 00:01:00', '2020-03-03 00:01:01',\n",
       "               '2020-03-03 00:01:02', '2020-03-03 00:01:03',\n",
       "               '2020-03-03 00:01:04', '2020-03-03 00:01:05',\n",
       "               '2020-03-03 00:01:06', '2020-03-03 00:01:07',\n",
       "               '2020-03-03 00:01:08', '2020-03-03 00:01:09',\n",
       "               '2020-03-03 00:01:10', '2020-03-03 00:01:11',\n",
       "               '2020-03-03 00:01:12', '2020-03-03 00:01:13',\n",
       "               '2020-03-03 00:01:14', '2020-03-03 00:01:15',\n",
       "               '2020-03-03 00:01:16', '2020-03-03 00:01:17',\n",
       "               '2020-03-03 00:01:18', '2020-03-03 00:01:19',\n",
       "               '2020-03-03 00:01:20', '2020-03-03 00:01:21',\n",
       "               '2020-03-03 00:01:22', '2020-03-03 00:01:23',\n",
       "               '2020-03-03 00:01:24', '2020-03-03 00:01:25',\n",
       "               '2020-03-03 00:01:26', '2020-03-03 00:01:27',\n",
       "               '2020-03-03 00:01:28', '2020-03-03 00:01:29',\n",
       "               '2020-03-03 00:01:30', '2020-03-03 00:01:31',\n",
       "               '2020-03-03 00:01:32', '2020-03-03 00:01:33',\n",
       "               '2020-03-03 00:01:34', '2020-03-03 00:01:35',\n",
       "               '2020-03-03 00:01:36', '2020-03-03 00:01:37',\n",
       "               '2020-03-03 00:01:38', '2020-03-03 00:01:39'],\n",
       "              dtype='datetime64[ns]', freq='S')"
      ]
     },
     "execution_count": 82,
     "metadata": {},
     "output_type": "execute_result"
    }
   ],
   "source": [
    "dates"
   ]
  },
  {
   "cell_type": "code",
   "execution_count": 85,
   "id": "c06d2b41",
   "metadata": {},
   "outputs": [],
   "source": [
    "ts=pd.Series(np.random.randint(0,500,len(dates)),dates)"
   ]
  },
  {
   "cell_type": "code",
   "execution_count": 86,
   "id": "23c31142",
   "metadata": {},
   "outputs": [
    {
     "data": {
      "text/plain": [
       "2020-03-03    24139\n",
       "Freq: 5T, dtype: int32"
      ]
     },
     "execution_count": 86,
     "metadata": {},
     "output_type": "execute_result"
    }
   ],
   "source": [
    "ts.resample('5min').sum()"
   ]
  },
  {
   "cell_type": "code",
   "execution_count": 87,
   "id": "8e8c8a25",
   "metadata": {},
   "outputs": [],
   "source": [
    "dates=pd.date_range('3/3/2020 00:00',periods=100,freq='S')"
   ]
  },
  {
   "cell_type": "code",
   "execution_count": 88,
   "id": "ee813cd8",
   "metadata": {},
   "outputs": [],
   "source": [
    "ts=pd.Series(np.random.randn(len(dates)),dates)"
   ]
  },
  {
   "cell_type": "code",
   "execution_count": 89,
   "id": "a151d869",
   "metadata": {},
   "outputs": [
    {
     "data": {
      "text/plain": [
       "2020-03-03 00:00:00   -1.086708\n",
       "2020-03-03 00:00:01    0.096523\n",
       "2020-03-03 00:00:02   -0.059745\n",
       "2020-03-03 00:00:03   -2.316490\n",
       "2020-03-03 00:00:04   -0.024424\n",
       "                         ...   \n",
       "2020-03-03 00:01:35   -1.207006\n",
       "2020-03-03 00:01:36   -0.254795\n",
       "2020-03-03 00:01:37    0.719612\n",
       "2020-03-03 00:01:38   -0.660317\n",
       "2020-03-03 00:01:39   -1.013441\n",
       "Freq: S, Length: 100, dtype: float64"
      ]
     },
     "execution_count": 89,
     "metadata": {},
     "output_type": "execute_result"
    }
   ],
   "source": [
    "ts"
   ]
  },
  {
   "cell_type": "code",
   "execution_count": 90,
   "id": "60d61b6b",
   "metadata": {},
   "outputs": [],
   "source": [
    "ts_utc=ts.tz_localize('UTC')"
   ]
  },
  {
   "cell_type": "code",
   "execution_count": 91,
   "id": "92a8e015",
   "metadata": {},
   "outputs": [
    {
     "data": {
      "text/plain": [
       "2020-03-03 00:00:00+00:00   -1.086708\n",
       "2020-03-03 00:00:01+00:00    0.096523\n",
       "2020-03-03 00:00:02+00:00   -0.059745\n",
       "2020-03-03 00:00:03+00:00   -2.316490\n",
       "2020-03-03 00:00:04+00:00   -0.024424\n",
       "                               ...   \n",
       "2020-03-03 00:01:35+00:00   -1.207006\n",
       "2020-03-03 00:01:36+00:00   -0.254795\n",
       "2020-03-03 00:01:37+00:00    0.719612\n",
       "2020-03-03 00:01:38+00:00   -0.660317\n",
       "2020-03-03 00:01:39+00:00   -1.013441\n",
       "Freq: S, Length: 100, dtype: float64"
      ]
     },
     "execution_count": 91,
     "metadata": {},
     "output_type": "execute_result"
    }
   ],
   "source": [
    "ts_utc"
   ]
  },
  {
   "cell_type": "code",
   "execution_count": 92,
   "id": "c7363379",
   "metadata": {},
   "outputs": [
    {
     "data": {
      "text/plain": [
       "2020-03-02 19:00:00-05:00   -1.086708\n",
       "2020-03-02 19:00:01-05:00    0.096523\n",
       "2020-03-02 19:00:02-05:00   -0.059745\n",
       "2020-03-02 19:00:03-05:00   -2.316490\n",
       "2020-03-02 19:00:04-05:00   -0.024424\n",
       "                               ...   \n",
       "2020-03-02 19:01:35-05:00   -1.207006\n",
       "2020-03-02 19:01:36-05:00   -0.254795\n",
       "2020-03-02 19:01:37-05:00    0.719612\n",
       "2020-03-02 19:01:38-05:00   -0.660317\n",
       "2020-03-02 19:01:39-05:00   -1.013441\n",
       "Freq: S, Length: 100, dtype: float64"
      ]
     },
     "execution_count": 92,
     "metadata": {},
     "output_type": "execute_result"
    }
   ],
   "source": [
    "ts_utc.tz_convert('US/Eastern')"
   ]
  },
  {
   "cell_type": "code",
   "execution_count": 93,
   "id": "0217609c",
   "metadata": {},
   "outputs": [],
   "source": [
    "dates=pd.date_range('3/3/2020',periods=5,freq='M')"
   ]
  },
  {
   "cell_type": "code",
   "execution_count": 94,
   "id": "a4cdd3c8",
   "metadata": {},
   "outputs": [],
   "source": [
    "ts=pd.Series(np.random.randn(len(dates)),dates)"
   ]
  },
  {
   "cell_type": "code",
   "execution_count": 95,
   "id": "fee89aed",
   "metadata": {},
   "outputs": [
    {
     "data": {
      "text/plain": [
       "2020-03-31    0.402424\n",
       "2020-04-30   -1.877015\n",
       "2020-05-31    0.526188\n",
       "2020-06-30    0.330003\n",
       "2020-07-31   -0.484565\n",
       "Freq: M, dtype: float64"
      ]
     },
     "execution_count": 95,
     "metadata": {},
     "output_type": "execute_result"
    }
   ],
   "source": [
    "ts"
   ]
  },
  {
   "cell_type": "code",
   "execution_count": 100,
   "id": "66fb2e04",
   "metadata": {},
   "outputs": [],
   "source": [
    "ps=ts.to_period()"
   ]
  },
  {
   "cell_type": "code",
   "execution_count": 101,
   "id": "8dffb149",
   "metadata": {},
   "outputs": [
    {
     "data": {
      "text/plain": [
       "2020-03    0.402424\n",
       "2020-04   -1.877015\n",
       "2020-05    0.526188\n",
       "2020-06    0.330003\n",
       "2020-07   -0.484565\n",
       "Freq: M, dtype: float64"
      ]
     },
     "execution_count": 101,
     "metadata": {},
     "output_type": "execute_result"
    }
   ],
   "source": [
    "ps"
   ]
  },
  {
   "cell_type": "code",
   "execution_count": 102,
   "id": "b0173748",
   "metadata": {},
   "outputs": [
    {
     "data": {
      "text/plain": [
       "2020-03-01    0.402424\n",
       "2020-04-01   -1.877015\n",
       "2020-05-01    0.526188\n",
       "2020-06-01    0.330003\n",
       "2020-07-01   -0.484565\n",
       "Freq: MS, dtype: float64"
      ]
     },
     "execution_count": 102,
     "metadata": {},
     "output_type": "execute_result"
    }
   ],
   "source": [
    "ps.to_timestamp()"
   ]
  },
  {
   "cell_type": "code",
   "execution_count": 103,
   "id": "8d8be47b",
   "metadata": {},
   "outputs": [],
   "source": [
    "df=pd.DataFrame({'id': [1,2,3,4,5,6],\n",
    "                  \"grade\":['a','b','c','b','a','e']\n",
    "                  })"
   ]
  },
  {
   "cell_type": "code",
   "execution_count": 104,
   "id": "c19f209c",
   "metadata": {},
   "outputs": [
    {
     "data": {
      "text/html": [
       "<div>\n",
       "<style scoped>\n",
       "    .dataframe tbody tr th:only-of-type {\n",
       "        vertical-align: middle;\n",
       "    }\n",
       "\n",
       "    .dataframe tbody tr th {\n",
       "        vertical-align: top;\n",
       "    }\n",
       "\n",
       "    .dataframe thead th {\n",
       "        text-align: right;\n",
       "    }\n",
       "</style>\n",
       "<table border=\"1\" class=\"dataframe\">\n",
       "  <thead>\n",
       "    <tr style=\"text-align: right;\">\n",
       "      <th></th>\n",
       "      <th>id</th>\n",
       "      <th>grade</th>\n",
       "    </tr>\n",
       "  </thead>\n",
       "  <tbody>\n",
       "    <tr>\n",
       "      <th>0</th>\n",
       "      <td>1</td>\n",
       "      <td>a</td>\n",
       "    </tr>\n",
       "    <tr>\n",
       "      <th>1</th>\n",
       "      <td>2</td>\n",
       "      <td>b</td>\n",
       "    </tr>\n",
       "    <tr>\n",
       "      <th>2</th>\n",
       "      <td>3</td>\n",
       "      <td>c</td>\n",
       "    </tr>\n",
       "    <tr>\n",
       "      <th>3</th>\n",
       "      <td>4</td>\n",
       "      <td>b</td>\n",
       "    </tr>\n",
       "    <tr>\n",
       "      <th>4</th>\n",
       "      <td>5</td>\n",
       "      <td>a</td>\n",
       "    </tr>\n",
       "    <tr>\n",
       "      <th>5</th>\n",
       "      <td>6</td>\n",
       "      <td>e</td>\n",
       "    </tr>\n",
       "  </tbody>\n",
       "</table>\n",
       "</div>"
      ],
      "text/plain": [
       "   id grade\n",
       "0   1     a\n",
       "1   2     b\n",
       "2   3     c\n",
       "3   4     b\n",
       "4   5     a\n",
       "5   6     e"
      ]
     },
     "execution_count": 104,
     "metadata": {},
     "output_type": "execute_result"
    }
   ],
   "source": [
    "df"
   ]
  },
  {
   "cell_type": "code",
   "execution_count": 105,
   "id": "293bb084",
   "metadata": {},
   "outputs": [],
   "source": [
    "df['Grade']=df['grade'].astype(\"category\")"
   ]
  },
  {
   "cell_type": "code",
   "execution_count": 106,
   "id": "d77e40e0",
   "metadata": {},
   "outputs": [],
   "source": [
    "df[\"Grade\"].cat.categories=['good',\"very bad\",'very good','excellent']"
   ]
  },
  {
   "cell_type": "code",
   "execution_count": 110,
   "id": "603048de",
   "metadata": {},
   "outputs": [],
   "source": [
    "df['Grade']=df[\"Grade\"].cat.set_categories([\"very good\",\"bad\",\"very bad\",\"good\",\"medium\"])"
   ]
  },
  {
   "cell_type": "code",
   "execution_count": 111,
   "id": "7c8f86bf",
   "metadata": {},
   "outputs": [
    {
     "data": {
      "text/plain": [
       "0         good\n",
       "1     very bad\n",
       "2    very good\n",
       "3     very bad\n",
       "4         good\n",
       "5          NaN\n",
       "Name: Grade, dtype: category\n",
       "Categories (5, object): ['very good', 'bad', 'very bad', 'good', 'medium']"
      ]
     },
     "execution_count": 111,
     "metadata": {},
     "output_type": "execute_result"
    }
   ],
   "source": [
    "df[\"Grade\"]"
   ]
  },
  {
   "cell_type": "code",
   "execution_count": 112,
   "id": "ec2059e6",
   "metadata": {},
   "outputs": [],
   "source": [
    "import matplotlib.pyplot as plt"
   ]
  },
  {
   "cell_type": "code",
   "execution_count": 113,
   "id": "542e3ba9",
   "metadata": {},
   "outputs": [],
   "source": [
    "plt.close('all')"
   ]
  },
  {
   "cell_type": "code",
   "execution_count": 114,
   "id": "160c1373",
   "metadata": {},
   "outputs": [],
   "source": [
    "ts=pd.Series(np.random.randn(500),index=pd.date_range('1/2/2020',periods=500))"
   ]
  },
  {
   "cell_type": "code",
   "execution_count": 115,
   "id": "6a48825b",
   "metadata": {},
   "outputs": [],
   "source": [
    "ts=ts.cumsum()"
   ]
  },
  {
   "cell_type": "code",
   "execution_count": 116,
   "id": "6d92b065",
   "metadata": {},
   "outputs": [
    {
     "data": {
      "text/plain": [
       "<AxesSubplot:>"
      ]
     },
     "execution_count": 116,
     "metadata": {},
     "output_type": "execute_result"
    },
    {
     "data": {
      "image/png": "[encoded data removed]",
      "text/plain": [
       "<Figure size 432x288 with 1 Axes>"
      ]
     },
     "metadata": {
      "needs_background": "light"
     },
     "output_type": "display_data"
    }
   ],
   "source": [
    "ts.plot()"
   ]
  },
  {
   "cell_type": "code",
   "execution_count": 117,
   "id": "d50f3466",
   "metadata": {},
   "outputs": [],
   "source": [
    "ts.to_csv(\"ts.csv\")"
   ]
  },
  {
   "cell_type": "code",
   "execution_count": null,
   "id": "9b7be16a",
   "metadata": {},
   "outputs": [],
   "source": []
  }
 ],
 "metadata": {
  "kernelspec": {
   "display_name": "Python 3",
   "language": "python",
   "name": "python3"
  },
  "language_info": {
   "codemirror_mode": {
    "name": "ipython",
    "version": 3
   },
   "file_extension": ".py",
   "mimetype": "text/x-python",
   "name": "python",
   "nbconvert_exporter": "python",
   "pygments_lexer": "ipython3",
   "version": "3.8.8"
  }
 },
 "nbformat": 4,
 "nbformat_minor": 5
}
